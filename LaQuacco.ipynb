{
 "cells": [
  {
   "cell_type": "markdown",
   "id": "67dcff70-8d02-491a-a945-53ee1ce19cb6",
   "metadata": {
    "editable": false,
    "slideshow": {
     "slide_type": ""
    },
    "tags": []
   },
   "source": [
    "# LaQuacco 🍅🍅🍅"
   ]
  },
  {
   "cell_type": "markdown",
   "id": "63c7b728-a8ea-41e4-9a10-a9ccbab594b1",
   "metadata": {
    "editable": false,
    "slideshow": {
     "slide_type": ""
    },
    "tags": []
   },
   "source": [
    "## Laboratory Quality Control v1.0"
   ]
  },
  {
   "cell_type": "markdown",
   "id": "94efd4c2-cf69-4647-b7b4-f49fc268ee8c",
   "metadata": {
    "editable": false,
    "slideshow": {
     "slide_type": ""
    },
    "tags": []
   },
   "source": [
    "### Module Imports"
   ]
  },
  {
   "cell_type": "code",
   "execution_count": null,
   "id": "59d0010f-3de0-4fd0-ae62-ae96fa0b3e8b",
   "metadata": {
    "editable": false,
    "slideshow": {
     "slide_type": ""
    },
    "tags": []
   },
   "outputs": [],
   "source": [
    "import os\n",
    "import time\n",
    "import matplotlib.pyplot as plt\n",
    "import numpy as np\n",
    "import laquacco as laq  # custom functions"
   ]
  },
  {
   "cell_type": "markdown",
   "id": "b116fe99-f03c-4105-b901-c53ec1bbeb4c",
   "metadata": {
    "editable": false,
    "slideshow": {
     "slide_type": ""
    },
    "tags": []
   },
   "source": [
    "### User Input"
   ]
  },
  {
   "cell_type": "code",
   "execution_count": null,
   "id": "f4e961dd-73e6-4d28-8b16-fc10d8b2b471",
   "metadata": {
    "editable": true,
    "slideshow": {
     "slide_type": ""
    },
    "tags": []
   },
   "outputs": [],
   "source": [
    "# define search pattern and path for positive controls:\n",
    "# statistics will be used for later quality control\n",
    "control_dir = r\"./tests/Polaris\"  # directory string\n",
    "control_ext = \"*.tif\"  # positive search pattern\n",
    "control_exc = \"\"  # negative search pattern\n",
    "control_sub = True  # recursive search\n",
    "\n",
    "# define search pattern and path for dataset samples\n",
    "# run quality control for each channel\n",
    "sample_dir = r\"./tests/Polaris\"\n",
    "sample_ext = \"*.tif\"\n",
    "sample_exc = \"\"\n",
    "sample_sub = True"
   ]
  },
  {
   "cell_type": "markdown",
   "id": "8c14a1c1-5db0-4b20-aab4-ba5ac7b89dcf",
   "metadata": {
    "editable": false,
    "slideshow": {
     "slide_type": ""
    },
    "tags": []
   },
   "source": [
    "### Check Dataset"
   ]
  },
  {
   "cell_type": "code",
   "execution_count": null,
   "id": "d0cfad8c-2286-4b4d-89e1-4afc3f6c9e3e",
   "metadata": {
    "editable": false,
    "slideshow": {
     "slide_type": ""
    },
    "tags": []
   },
   "outputs": [],
   "source": [
    "# list positive controls\n",
    "controls = sorted(\n",
    "    laq.get_files(\n",
    "        path=control_dir,\n",
    "        pat=control_ext,\n",
    "        anti=control_exc,\n",
    "        recurse=control_sub,\n",
    "    ),\n",
    "    key=str.lower,\n",
    ")\n",
    "controls_len = len(controls)\n",
    "print(f\"Controls: {controls_len}\\n\\t{os.path.abspath(control_dir)}\")\n",
    "for control in controls:\n",
    "    print(f\"\\t {control.replace(control_dir, '.')}\")\n",
    "print()\n",
    "\n",
    "# list dataset samples\n",
    "samples = sorted(\n",
    "    laq.get_files(\n",
    "        path=sample_dir,\n",
    "        pat=sample_ext,\n",
    "        anti=sample_exc,\n",
    "        recurse=sample_sub,\n",
    "    ),\n",
    "    key=str.lower,\n",
    ")\n",
    "samples_len = len(samples)\n",
    "print(f\"Controls: {samples_len}\\n\\t{os.path.abspath(sample_dir)}\")\n",
    "for sample in samples:\n",
    "    print(f\"\\t {sample.replace(sample_dir, '.')}\")"
   ]
  },
  {
   "cell_type": "markdown",
   "id": "8eb6230e-2a76-4829-948a-cabf01f2966c",
   "metadata": {
    "editable": false,
    "slideshow": {
     "slide_type": ""
    },
    "tags": []
   },
   "source": [
    "### Sample Dataset"
   ]
  },
  {
   "cell_type": "code",
   "execution_count": null,
   "id": "f0f92a28-0ca2-4f6b-814b-b16bd83754d2",
   "metadata": {
    "editable": false,
    "scrolled": true,
    "slideshow": {
     "slide_type": ""
    },
    "tags": []
   },
   "outputs": [],
   "source": [
    "# get control statistics\n",
    "controls_img_data = {}\n",
    "start = time.time()\n",
    "for count, control in enumerate(controls, start=1):\n",
    "    print(\n",
    "        f\"CONTROL: [{count}/{controls_len}]  {os.path.basename(control)}\",\n",
    "        end=\"\",\n",
    "        flush=True,\n",
    "    )\n",
    "    controls_img_data[control] = laq.stats_img_data(\n",
    "        laq.get_tiff(control)\n",
    "    )  # signal above zero\n",
    "    print(f\"\\t(-{laq.get_time_left(start, count, controls_len)})\")\n",
    "print()\n",
    "\n",
    "# list control channel names (by name)\n",
    "chans = dict()\n",
    "for img_data in controls_img_data.values():\n",
    "    for chan in img_data:\n",
    "        chans[chan] = None\n",
    "chans = list(chans.keys())\n",
    "chans.remove(\"metadata\")\n",
    "chans = sorted(chans, key=str.lower)\n",
    "\n",
    "# get control statistics\n",
    "control_stats = {chan: (np.nan, np.nan) for chan in chans}\n",
    "for chan in chans:\n",
    "    print(f\"{chan}:\")\n",
    "    control_mean = laq.get_chan_data(controls_img_data, chan, \"mean\")\n",
    "    control_minmax = laq.get_chan_data(controls_img_data, chan, \"minmax\", 2)\n",
    "    control_stats[chan] = (\n",
    "        np.nanmean(control_mean),\n",
    "        np.nanmean(control_minmax[:, 0]),\n",
    "        np.nanmean(control_minmax[:, 1]),\n",
    "    )\n",
    "    print(\n",
    "        f\"\\tMaximum: {control_stats[chan][2]:7.1f} (mean) {np.nanstd(control_minmax[:, 1]):7.1f} (std)\\n\",\n",
    "        f\"\\tMean:    {control_stats[chan][0]:7.1f} (mean) {np.nanstd(control_mean):7.1f} (std)\\n\",\n",
    "        f\"\\tMinimum: {control_stats[chan][1]:7.1f} (mean) {np.nanstd(control_minmax[:, 0]):7.1f} (std)\\n\",\n",
    "    )\n",
    "\n",
    "# get sample statistics\n",
    "samples_img_data = {}\n",
    "start = time.time()\n",
    "for count, sample in enumerate(samples, start=1):\n",
    "    print(\n",
    "        f\"SAMPLE: [{count}/{samples_len}]  {os.path.basename(sample)}\",\n",
    "        end=\"\",\n",
    "        flush=True,\n",
    "    )\n",
    "    samples_img_data[sample] = laq.stats_img_data(laq.get_tiff(sample), control_stats)\n",
    "    print(f\"\\t(-{laq.get_time_left(start, count, samples_len)})\")\n",
    "print()\n",
    "\n",
    "# sort samples by time stamp\n",
    "samples_img_data = dict(\n",
    "    sorted(samples_img_data.items(), key=lambda v: v[1][\"metadata\"][\"date_time\"])\n",
    ")\n",
    "samples = [sample for sample in samples_img_data.keys()]"
   ]
  },
  {
   "cell_type": "markdown",
   "id": "fc5c9df8-5bf3-4a65-a34e-db1539ebd490",
   "metadata": {
    "editable": false,
    "slideshow": {
     "slide_type": ""
    },
    "tags": []
   },
   "source": [
    "### Graphics Settings"
   ]
  },
  {
   "cell_type": "code",
   "execution_count": null,
   "id": "78dde60a-aa2c-4ddd-88d1-d1695650f06c",
   "metadata": {
    "editable": false,
    "slideshow": {
     "slide_type": ""
    },
    "tags": []
   },
   "outputs": [],
   "source": [
    "# prepare figure dimensions\n",
    "dpi = plt.rcParams[\"figure.dpi\"]\n",
    "min_pixw, min_pixh = 1600, 1200\n",
    "min_width, min_height = min_pixw / dpi, min_pixh / dpi\n",
    "plt.rcParams[\"figure.figsize\"] = [min_width, min_height]"
   ]
  },
  {
   "cell_type": "markdown",
   "id": "64b06de0-018d-466a-97bf-0153a8c9ad42",
   "metadata": {
    "editable": false,
    "slideshow": {
     "slide_type": ""
    },
    "tags": []
   },
   "source": [
    "### Data Plots I - Distribution Chart"
   ]
  },
  {
   "cell_type": "code",
   "execution_count": null,
   "id": "c511d0d3-9428-407e-a21c-75787b3610a2",
   "metadata": {
    "editable": false,
    "slideshow": {
     "slide_type": ""
    },
    "tags": []
   },
   "outputs": [],
   "source": [
    "print(\"Plotting distribution chart...\\n\")\n",
    "\n",
    "# get sample means\n",
    "sample_means = {}\n",
    "fig, ax = plt.subplots()\n",
    "for c, chan in enumerate(chans):\n",
    "    sample_means[chan] = laq.get_chan_data(samples_img_data, chan, \"mean\")\n",
    "\n",
    "# prepare variables for plotting\n",
    "x_vals = range(1, len(chans) + 1)\n",
    "y_vals = [y for y in sample_means.values()]\n",
    "\n",
    "# create violin plot for all channels\n",
    "ax.set_xticks(x_vals, labels=chans, rotation=90)\n",
    "vp = ax.violinplot(y_vals, showmeans=True, showextrema=False)\n",
    "for p in vp[\"bodies\"]:\n",
    "    p.set_facecolor(\"black\")\n",
    "    p.set_edgecolor(\"black\")\n",
    "for m in [\"cmeans\"]:\n",
    "    vp[m].set_edgecolor(\"dimgray\")\n",
    "\n",
    "# adjust axes\n",
    "plt.minorticks_on()\n",
    "plt.ylim(bottom=0.0)\n",
    "\n",
    "# add grid\n",
    "plt.grid(color='gray', linewidth=0.25)\n",
    "\n",
    "# add legend\n",
    "legend = plt.legend(\n",
    "    [vp[\"bodies\"][0]],\n",
    "    [\"mean\"],\n",
    ")\n",
    "\n",
    "# get axes limits\n",
    "y_min, y_max = plt.gca().get_ylim()\n",
    "\n",
    "# show plot\n",
    "plt.tight_layout()\n",
    "plt.show()\n"
   ]
  },
  {
   "cell_type": "markdown",
   "id": "d46667f2-73b4-481e-a36b-baea3bf471c5",
   "metadata": {
    "editable": false,
    "slideshow": {
     "slide_type": ""
    },
    "tags": []
   },
   "source": [
    "### Data Plots II - Levey-Jennings Charts"
   ]
  },
  {
   "cell_type": "code",
   "execution_count": null,
   "id": "2b124c91-27fc-4182-9472-7d5d0e633a10",
   "metadata": {
    "editable": false,
    "scrolled": true,
    "slideshow": {
     "slide_type": ""
    },
    "tags": []
   },
   "outputs": [],
   "source": [
    "print(\"Plotting Levey-Jennings charts...\")\n",
    "\n",
    "# one plot per channel\n",
    "chan_limits = {}\n",
    "for c, chan in enumerate(chans):\n",
    "    print(f\"\\n{chan}:\")\n",
    "\n",
    "    # get image statistics\n",
    "    chan_mean = np.nanmean(sample_means[chan])\n",
    "    chan_stdevs = laq.get_chan_data(samples_img_data, chan, \"stdev\")\n",
    "    chan_stdev = np.nanstd(sample_means[chan])\n",
    "    chan_stderrs = laq.get_chan_data(samples_img_data, chan, \"stderr\")\n",
    "\n",
    "    # prepare variables for plotting\n",
    "    x_vals = range(1, samples_len + 1)\n",
    "    y_vals = sample_means[chan]\n",
    "    e_vals = chan_stderrs\n",
    "\n",
    "    # plot error bars\n",
    "    plt.errorbar(\n",
    "        x_vals,\n",
    "        y_vals,\n",
    "        yerr=e_vals,\n",
    "        fmt=\"o-\",\n",
    "        linewidth=1,\n",
    "        markersize=3,\n",
    "        color=\"black\",\n",
    "        label=chan,\n",
    "    )\n",
    "\n",
    "    # adjust axes\n",
    "    plt.minorticks_on()\n",
    "    plt.ylim(bottom=y_min, top=y_max)\n",
    "\n",
    "    # add legend\n",
    "    plt.legend()\n",
    "\n",
    "    # add grid\n",
    "    plt.grid(color='gray', linewidth=0.25)\n",
    "\n",
    "    # add channel mean\n",
    "    plt.axhline(y=chan_mean, color=\"black\", linestyle=\"dashed\")\n",
    "\n",
    "    # add channel limits\n",
    "    chan_limits_keys = [(\"p2stdev\", \"m2stdev\"), (\"p1stdev\", \"m1stdev\")]\n",
    "    chan_limits[chan] = {\n",
    "        chan_limits_keys[0][0]: chan_mean + 2.0 * chan_stdev,\n",
    "        chan_limits_keys[1][0]: chan_mean + 1.0 * chan_stdev,\n",
    "        chan_limits_keys[1][1]: chan_mean - 1.0 * chan_stdev,\n",
    "        chan_limits_keys[0][1]: chan_mean - 2.0 * chan_stdev,\n",
    "    }\n",
    "    for upper, lower in chan_limits_keys:\n",
    "        plt.fill_between(\n",
    "            x_vals,\n",
    "            chan_limits[chan][upper],\n",
    "            chan_limits[chan][lower],\n",
    "            color=\"black\",\n",
    "            alpha=0.1,\n",
    "        )\n",
    "\n",
    "    # show plot\n",
    "    plt.tight_layout()\n",
    "    plt.show()\n",
    "\n",
    "# print legend for x axes\n",
    "print(\"Samples:\")\n",
    "for position, sample in enumerate(samples, start=1):\n",
    "    print(f\"\\t{position} = {os.path.basename(sample)}\")\n",
    "\n",
    "\"\"\"\n",
    "\"\"\"\n",
    "\n",
    "print(\"Listing extreme values...\")\n",
    "\n",
    "for c, chan in enumerate(chans):\n",
    "    print(f\"\\n{chan}:\")\n",
    "\n",
    "    for m, mean in enumerate(sample_means[chan]):\n",
    "        if mean > chan_limits[chan][\"p2stdev\"]:\n",
    "            print(f\"\\t▲▲ {os.path.basename(samples[m])}\")\n",
    "        elif mean > chan_limits[chan][\"p1stdev\"]:\n",
    "            print(f\"\\t▲  {os.path.basename(samples[m])}\")\n",
    "        elif mean < chan_limits[chan][\"m2stdev\"]:\n",
    "            print(f\"\\t▼▼ {os.path.basename(samples[m])}\")\n",
    "        elif mean < chan_limits[chan][\"m1stdev\"]:\n",
    "            print(f\"\\t▼  {os.path.basename(samples[m])}\")"
   ]
  },
  {
   "cell_type": "markdown",
   "id": "900fd25b-1c3b-4a2f-8d7d-883ba350a562",
   "metadata": {
    "editable": false,
    "slideshow": {
     "slide_type": ""
    },
    "tags": []
   },
   "source": [
    "### Data Plots II - Extreme Values"
   ]
  },
  {
   "cell_type": "code",
   "execution_count": null,
   "id": "146b0868-0c41-4ffc-8463-dd84cf0d1f96",
   "metadata": {
    "editable": false,
    "slideshow": {
     "slide_type": ""
    },
    "tags": []
   },
   "outputs": [],
   "source": [
    "print(\"Listing extreme values...\")\n",
    "\n",
    "for c, chan in enumerate(chans):\n",
    "    print(f\"\\n{chan}:\")\n",
    "\n",
    "    for m, mean in enumerate(sample_means[chan]):\n",
    "        if mean > chan_limits[chan][\"p2stdev\"]:\n",
    "            print(f\"\\t▲▲ {os.path.basename(samples[m])}\")\n",
    "        elif mean > chan_limits[chan][\"p1stdev\"]:\n",
    "            print(f\"\\t▲  {os.path.basename(samples[m])}\")\n",
    "        elif mean < chan_limits[chan][\"m2stdev\"]:\n",
    "            print(f\"\\t▼▼ {os.path.basename(samples[m])}\")\n",
    "        elif mean < chan_limits[chan][\"m1stdev\"]:\n",
    "            print(f\"\\t▼  {os.path.basename(samples[m])}\")"
   ]
  },
  {
   "cell_type": "markdown",
   "id": "327f945d-0681-45e8-9d85-252ba0ab54a4",
   "metadata": {
    "editable": false,
    "slideshow": {
     "slide_type": ""
    },
    "tags": []
   },
   "source": [
    "### Data Plots III - C-Band Charts"
   ]
  },
  {
   "cell_type": "code",
   "execution_count": null,
   "id": "36dd815a-6b55-4901-95c0-6325af14b3f0",
   "metadata": {
    "editable": false,
    "scrolled": true,
    "slideshow": {
     "slide_type": ""
    },
    "tags": []
   },
   "outputs": [],
   "source": [
    "print(\"Plotting C-Band charts...\")\n",
    "\n",
    "# one plot per channel\n",
    "bands_limits = {}\n",
    "chans_bands = {}\n",
    "for c, chan in enumerate(chans):\n",
    "    print(f\"\\n{chan}:\")\n",
    "\n",
    "    # add band to plot\n",
    "    chans_bands[chan] = list(zip(*laq.get_chan_data(samples_img_data, chan, \"bands\", 4)))\n",
    "    for lvl, bands in enumerate(chans_bands[chan]):\n",
    "\n",
    "        # get image statistics\n",
    "        bands_mean = np.nanmean(bands)\n",
    "        bands_stdev = np.nanstd(bands)\n",
    "\n",
    "        # prepare variables for plotting\n",
    "        x_vals = range(1, samples_len + 1)\n",
    "        y_vals = bands\n",
    "\n",
    "        # plot error bars\n",
    "        plt.errorbar(\n",
    "            x_vals,\n",
    "            y_vals,\n",
    "            fmt=\"o-\",\n",
    "            linewidth=1,\n",
    "            markersize=3,\n",
    "            color=\"black\",\n",
    "            label=chan,\n",
    "        )\n",
    "\n",
    "        # add band mean\n",
    "        plt.axhline(y=bands_mean, color=\"black\", linestyle=\"dashed\")\n",
    "\n",
    "        # add band limits\n",
    "        bands_limits[chan] = {}\n",
    "        bands_limits_keys = [(\"p2stdev\", \"m2stdev\"), (\"p1stdev\", \"m1stdev\")]\n",
    "        bands_limits[chan][lvl] = {\n",
    "            bands_limits_keys[0][0]: bands_mean + 2.0 * bands_stdev,\n",
    "            bands_limits_keys[1][0]: bands_mean + 1.0 * bands_stdev,\n",
    "            bands_limits_keys[1][1]: bands_mean - 1.0 * bands_stdev,\n",
    "            bands_limits_keys[0][1]: bands_mean - 2.0 * bands_stdev,\n",
    "        }\n",
    "        for upper, lower in bands_limits_keys:\n",
    "            plt.fill_between(\n",
    "                x_vals,\n",
    "                bands_limits[chan][lvl][upper],\n",
    "                bands_limits[chan][lvl][lower],\n",
    "                color=\"black\",\n",
    "                alpha=0.1,\n",
    "            )\n",
    "\n",
    "    # adjust axes\n",
    "    plt.minorticks_on()\n",
    "    plt.ylim(bottom=y_min)\n",
    "\n",
    "    # add legend\n",
    "    handles, labels = plt.gca().get_legend_handles_labels()\n",
    "    plt.legend([handles[0]], [labels[0]])\n",
    "\n",
    "    # add grid\n",
    "    plt.grid(color='gray', linewidth=0.25)\n",
    "\n",
    "    # add channel mean\n",
    "    plt.axhline(y=np.nanmean(sample_means[chan]), color=\"black\", linestyle=\"solid\")\n",
    "\n",
    "    # show plot\n",
    "    plt.tight_layout()\n",
    "    plt.show()"
   ]
  },
  {
   "cell_type": "markdown",
   "id": "2db491cf-019d-4267-8bea-1092903b42a4",
   "metadata": {
    "editable": false,
    "slideshow": {
     "slide_type": ""
    },
    "tags": []
   },
   "source": [
    "### Data Plots III - Signal-to-Noise Ratio"
   ]
  },
  {
   "cell_type": "code",
   "execution_count": null,
   "id": "310350b1-ea1b-461c-a39a-b69b1c824dcf",
   "metadata": {
    "editable": false,
    "slideshow": {
     "slide_type": ""
    },
    "tags": []
   },
   "outputs": [],
   "source": [
    "print(\"Listing signal-to-noise ratios...\")\n",
    "\n",
    "chans_snrs = {}\n",
    "for chan in chans:\n",
    "    chans_snrs[chan] = []\n",
    "    for lvl, bands in enumerate(chans_bands[chan]):\n",
    "        chans_snrs[chan].append(tuple([band / band_0 for band, band_0 in zip(bands, list(chans_bands[chan])[0])]))\n",
    "\n",
    "# print signal-to-noise ratios for bands\n",
    "for c, chan in enumerate(chans):\n",
    "    print(f\"\\n{chan}:\")\n",
    "\n",
    "    for position, sample in enumerate(samples):\n",
    "        print(f\"\\t{os.path.basename(sample)}\", end=\"\")\n",
    "        for snrs in chans_snrs[chan]:\n",
    "            print(f\"\\t{snrs[position]:7.1f}\", end=\"\")\n",
    "        print()"
   ]
  }
 ],
 "metadata": {
  "kernelspec": {
   "display_name": "Python 3 (ipykernel)",
   "language": "python",
   "name": "python3"
  },
  "language_info": {
   "codemirror_mode": {
    "name": "ipython",
    "version": 3
   },
   "file_extension": ".py",
   "mimetype": "text/x-python",
   "name": "python",
   "nbconvert_exporter": "python",
   "pygments_lexer": "ipython3",
   "version": "3.12.1"
  }
 },
 "nbformat": 4,
 "nbformat_minor": 5
}

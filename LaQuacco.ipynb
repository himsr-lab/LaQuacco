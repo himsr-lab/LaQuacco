{
 "cells": [
  {
   "cell_type": "markdown",
   "id": "2565f104-b2a8-4c28-803f-b827cd8420e9",
   "metadata": {
    "editable": false,
    "slideshow": {
     "slide_type": ""
    },
    "tags": []
   },
   "source": [
    "# LaQuacco 🍅🍅🍅"
   ]
  },
  {
   "cell_type": "markdown",
   "id": "39a22ed4-a836-4972-8ffc-761d5118a00f",
   "metadata": {
    "editable": false,
    "slideshow": {
     "slide_type": ""
    },
    "tags": []
   },
   "source": [
    "### Laboratory Quality Control v2.1 (2025-10-09)"
   ]
  },
  {
   "cell_type": "raw",
   "id": "bbf9ceea-49d6-4ad1-929c-359f357e2caa",
   "metadata": {
    "editable": false,
    "jupyter": {
     "source_hidden": true
    },
    "raw_mimetype": "",
    "slideshow": {
     "slide_type": ""
    },
    "tags": []
   },
   "source": [
    "Copyright 2023 The Regents of the University of Colorado\n",
    "\n",
    "This file is part of LaQuacco.\n",
    "\n",
    "LaQuacco is free software: you can redistribute it and/or modify it\n",
    "under the terms of the GNU General Public License as published by\n",
    "the Free Software Foundation, either version 3 of the License, or\n",
    "(at your option) any later version.\n",
    "\n",
    "LaQuacco is distributed in the hope that it will be useful,\n",
    "but WITHOUT ANY WARRANTY; without even the implied warranty of\n",
    "MERCHANTABILITY or FITNESS FOR A PARTICULAR PURPOSE. See the\n",
    "GNU General Public License for more details.\n",
    "\n",
    "You should have received a copy of the GNU General Public License\n",
    "along with this program. If not, see <https://www.gnu.org/licenses/>.\n",
    "\n",
    "Author:     Christian Rickert <christian.rickert@cuanschutz.edu>\n",
    "Group:      Human Immune Monitoring Shared Resource (HIMSR)\n",
    "            University of Colorado, Anschutz Medical Campus\n",
    "\n",
    "Title:      LaQuacco\n",
    "Summary:    Laboratory Quality Control\n",
    "DOI:        10.5281/zenodo.17298006\n",
    "URL:        https://github.com/himsr-lab/LaQuacco"
   ]
  },
  {
   "cell_type": "markdown",
   "id": "00270863-5490-4b49-a22c-3b234b197d2c",
   "metadata": {
    "editable": false,
    "slideshow": {
     "slide_type": ""
    },
    "tags": []
   },
   "source": [
    "#### https://github.com/himsr-lab/LaQuacco"
   ]
  },
  {
   "cell_type": "markdown",
   "id": "0373d7a4-cb60-4fe6-962b-53dcdc3b053f",
   "metadata": {
    "editable": false,
    "slideshow": {
     "slide_type": ""
    },
    "tags": []
   },
   "source": [
    "### User Input"
   ]
  },
  {
   "cell_type": "code",
   "execution_count": null,
   "id": "1080d014-b553-467a-9847-f1a9f9160773",
   "metadata": {
    "editable": true,
    "slideshow": {
     "slide_type": ""
    },
    "tags": []
   },
   "outputs": [],
   "source": [
    "# 1) adjust runtime behavior\n",
    "\n",
    "\"\"\"\n",
    "Basic: Adjust these variable values as needed.\n",
    "\"\"\"\n",
    "# Absolute or relative path to directory with image data\n",
    "#\n",
    "# Examples:\n",
    "# r\"./tests\"  (default)\n",
    "# r\"C:\\User\\Desktop\\images\"\n",
    "# r\"\\\\data.server.edu\\labs\\pi\\project\\data\"\n",
    "#\n",
    "images_path = r\"./tests\"\n",
    "\n",
    "# Accepted file extensions for matching\n",
    "#\n",
    "# Examples:\n",
    "# \"*.ome.tiff\"  (default)\n",
    "# \"*.qptiff\"\n",
    "# \"*.tif\"\n",
    "#\n",
    "images_included = \"*.ome.tiff\"\n",
    "\n",
    "# Rejected file extensions for matching\n",
    "#\n",
    "# Examples:\n",
    "# \"\" (default)\n",
    "# \"*.tiff\"\n",
    "#\n",
    "images_excluded = \"\"\n",
    "\n",
    "\"\"\"\n",
    "Advanced: Adjust these variables to customize runtime behavior.\n",
    "\"\"\"\n",
    "# Define closed channel intervals with endpoints (case-sensitive)\n",
    "#\n",
    "# Examples:\n",
    "# \n",
    "# {\"*\": {\"lower\": None, \"upper\": None}}  (default, all channels)\n",
    "# {\"*\": {\"lower\": 1e-7, \"upper\": None}}  (all channels, ignore zeros)\n",
    "# {\"*\": {\"lower\": 1e-7}, \"Channel 1\": {\"upper\": 5.0}  (combined limits)\n",
    "# \n",
    "channel_limits = {\"*\": {\"lower\": None, \"upper\": None}}\n",
    "# Customize these variables to your needs\n",
    "copy_images = False  # create a local copy before processing\n",
    "figure_dimensions = (1460, 822)  # width and height in pixels\n",
    "list_outliers = True  # list outliers in addition to plotting\n",
    "max_plots_warn = 100  # warning will be displayed above plot limit\n",
    "recursive_search = False  # search recursively for images at path\n",
    "\n",
    "\"\"\"\n",
    "QPTIFF: Limit analysis to rectangular annotations of type \"FlaggedForAnalysis\".\n",
    "\"\"\"\n",
    "use_annotations = False  # ignore pixels outside annotations\n",
    "\n",
    "\"\"\"\n",
    "Dataset:  Running this cell lists all image files found.\n",
    "\"\"\"\n",
    "import os\n",
    "import laquacco as laq\n",
    "import qptiff as qpt\n",
    "\n",
    "files = laq.get_files(\n",
    "    path=os.path.abspath(images_path),\n",
    "    pat=images_included,\n",
    "    anti=images_excluded,\n",
    "    recurse=recursive_search,\n",
    ")\n",
    "print(f\"Images: {len(files)}\")\n",
    "dirs_files = {\n",
    "    dir: [os.path.basename(file) for file in files if os.path.dirname(file) == dir]\n",
    "    for dir in set(os.path.dirname(file) for file in files)\n",
    "}\n",
    "dirs_files = dict(sorted(dirs_files.items()))\n",
    "for dir, dir_files in dirs_files.items():\n",
    "    print(f\"=> {dir}\")\n",
    "    print(f\"{sorted(dir_files)}\")\n",
    "\n",
    "print(\"\\nCompleted.\")"
   ]
  },
  {
   "cell_type": "markdown",
   "id": "8fb95c45-92f9-41d5-9009-c2faf2aa82d6",
   "metadata": {
    "editable": false,
    "slideshow": {
     "slide_type": ""
    },
    "tags": []
   },
   "source": [
    "### Sampling I"
   ]
  },
  {
   "cell_type": "code",
   "execution_count": null,
   "id": "454c6bf7-ce21-4709-937c-9ab491b72cdf",
   "metadata": {
    "editable": false,
    "jupyter": {
     "source_hidden": true
    },
    "slideshow": {
     "slide_type": ""
    },
    "tags": []
   },
   "outputs": [],
   "source": [
    "# 2) retrieve image data (individual statistics)\n",
    "import os\n",
    "import shutil\n",
    "import time\n",
    "\n",
    "imgs = {}  # image dictionary\n",
    "annos = {}  # annotation dictionary\n",
    "imgs_chans_stats = {}  # statistics dictionary\n",
    "\n",
    "start = time.time()\n",
    "update_start = \"\"\n",
    "update_stop = \"\"\n",
    "update_max = 0\n",
    "files_len = len(files)\n",
    "for count, file in enumerate(files, start=1):\n",
    "    update_start = f\"IMAGE: {file}\\t[{count}/{files_len}]\"\n",
    "    update_len = len(update_start) + len(update_stop)\n",
    "    update_max = update_len if update_len > update_max else update_max\n",
    "    print(f\"\\r{update_start}{update_stop}{' ':<{update_max - update_len}}\", end=\"\")\n",
    "\n",
    "    # get individual statistics\n",
    "    tmp = laq.copy_file(file) if copy_images else file  # optional file copy\n",
    "    img = laq.get_img(tmp)\n",
    "    imgs[file] = {k: v for k, v in img.items()}\n",
    "    # prepare annotations\n",
    "    annos[file] = None\n",
    "    if use_annotations:\n",
    "        anno = qpt.get_xml(file)  # optional annotations file\n",
    "        if os.path.exists(anno):\n",
    "            offsets = qpt.get_offsets(img[\"tags\"][0])\n",
    "            annos[file] = qpt.get_rectangles(anno, offsets)\n",
    "    imgs_chans_stats[file] = laq.get_img_chans_stats(\n",
    "        imgs[file], annos=annos[file], chans_limits=channel_limits\n",
    "    )\n",
    "\n",
    "    # remove image objects\n",
    "    img[\"tiff\"].close()\n",
    "    if copy_images and tmp != file:\n",
    "        shutil.rmtree(os.path.dirname(tmp))\n",
    "\n",
    "    update_stop = f\" (-{laq.get_time_left(start, count, len(files))})\"\n",
    "print(f\"\\r{' ' * update_max}\\r\", end=\"\")  # clear line\n",
    "\n",
    "print(\"\\n-> Completed.\")"
   ]
  },
  {
   "cell_type": "markdown",
   "id": "a4158426-b66d-446a-b3ff-cdbd3ab29fa0",
   "metadata": {
    "editable": false,
    "slideshow": {
     "slide_type": ""
    },
    "tags": []
   },
   "source": [
    "### Summary I"
   ]
  },
  {
   "cell_type": "code",
   "execution_count": null,
   "id": "71719261-bc6e-47fe-af2a-d59d799bdbd6",
   "metadata": {
    "editable": false,
    "jupyter": {
     "source_hidden": true
    },
    "slideshow": {
     "slide_type": ""
    },
    "tags": []
   },
   "outputs": [],
   "source": [
    "# 3) print image data (individual statistics)\n",
    "import warnings\n",
    "import numpy as np\n",
    "\n",
    "# sort data by acquisition\n",
    "sorted_acqs = sorted(imgs.keys(), key=lambda k: imgs[k][\"datetimes\"][0])\n",
    "imgs = {k: imgs[k] for k in sorted_acqs}\n",
    "imgs_paths = list(imgs.keys())\n",
    "imgs_chans_stats = {k: imgs_chans_stats[k] for k in sorted_acqs}\n",
    "\n",
    "# get data summary\n",
    "chans = sorted(\n",
    "    list(\n",
    "        set(\n",
    "            chan\n",
    "            for chans_stats in imgs_chans_stats.values()\n",
    "            for chan in chans_stats.keys()\n",
    "        )\n",
    "    )\n",
    ")\n",
    "stats = sorted(\n",
    "    list(\n",
    "        set(\n",
    "            stat\n",
    "            for chans_stats in imgs_chans_stats.values()\n",
    "            for stat in chans_stats.values()\n",
    "            for stat in stat.keys()\n",
    "        )\n",
    "    )\n",
    ")\n",
    "chans_stats = {\n",
    "    chan: {\n",
    "        stat: np.asarray(\n",
    "            [\n",
    "                imgs_chans_stats[img][chan][stat]\n",
    "                if chan in imgs_chans_stats[img]\n",
    "                else None\n",
    "                for img in imgs_chans_stats.keys()\n",
    "            ],\n",
    "            dtype=np.float64,\n",
    "        )\n",
    "        for stat in stats\n",
    "    }\n",
    "    for chan in chans\n",
    "}\n",
    "chans_means = {\n",
    "    chan: {\n",
    "        stat: np.nanmean(\n",
    "            chans_stats[chan][stat]\n",
    "            if chan in chans_stats and stat in chans_stats[chan]\n",
    "            else np.nan\n",
    "        )\n",
    "        for stat in stats\n",
    "    }\n",
    "    for chan in chans\n",
    "}\n",
    "\n",
    "# check data (appears after prints)\n",
    "def min_warning(message, category, filename, lineno, line=None):\n",
    "    return f\"{category.__name__}: {message}\\n\"\n",
    "warnings.formatwarning = min_warning  # category and message\n",
    "warnings.simplefilter(\"always\", UserWarning)  # do repeat\n",
    "expos_found = {\n",
    "    chan: [\n",
    "        expo\n",
    "        for meta in imgs.values()\n",
    "        for ch, expo in zip(meta[\"channels\"], meta[\"exposures\"])\n",
    "        if ch == chan\n",
    "    ]\n",
    "    for chan in set(ch for meta in imgs.values() for ch in meta[\"channels\"])\n",
    "}\n",
    "stats_missing = {\n",
    "    chan: [\n",
    "        stat\n",
    "        for stat in chans_stats[chan]\n",
    "        for index, value in enumerate(chans_stats[chan][stat])\n",
    "        if np.isnan(value)\n",
    "    ]\n",
    "    for chan in chans_stats\n",
    "}\n",
    "for chan in chans:\n",
    "    expos_set = sorted(set(expos_found[chan]))\n",
    "    if len(expos_set) > 1:  # exposure times differ\n",
    "        warnings.warn(\n",
    "            f\"{chan}: Exposure times are not identical!\\n{expos_set}\", UserWarning\n",
    "        )\n",
    "    stats_set = sorted(set(stats_missing[chan]))\n",
    "    if len(stats_missing[chan]) > 0:  # statistics incomplete\n",
    "        warnings.warn(\n",
    "            f\"{chan}: Statistics are missing for some images!\\n{stats_set}\",\n",
    "            UserWarning,\n",
    "        )\n",
    "\n",
    "# print data (appears before warnings)\n",
    "imgs_str_len = len(str(len(imgs)))\n",
    "for pos, img in enumerate(imgs):\n",
    "    print(f'{pos:>{imgs_str_len}} => \"{img}\"  # {imgs[img]['datetimes'][0]}')\n",
    "print()\n",
    "for chan in chans:\n",
    "    print(\n",
    "        f\"{chan} @ {', '.join([f'{value}{unit}' for value, unit in sorted(set(expos_found[chan]))])}\"\n",
    "    )\n",
    "    for stat in stats:\n",
    "        print(\n",
    "            f\"\\t{stat}\\t{np.nanmean(chans_stats[chan][stat]):7.1f} (mean)\\t{np.nanstd(chans_stats[chan][stat]):7.1f} (std)\"\n",
    "        )\n",
    "\n",
    "print(\"\\n-> Completed.\")"
   ]
  },
  {
   "cell_type": "markdown",
   "id": "54d14c09-c9cc-4a99-bf77-285cbc78c977",
   "metadata": {
    "editable": false,
    "slideshow": {
     "slide_type": ""
    },
    "tags": []
   },
   "source": [
    "### Distribution - Violin Chart"
   ]
  },
  {
   "cell_type": "code",
   "execution_count": null,
   "id": "03693883-f2c0-498f-99d9-a1ff545a39ba",
   "metadata": {
    "editable": false,
    "jupyter": {
     "source_hidden": true
    },
    "slideshow": {
     "slide_type": ""
    },
    "tags": []
   },
   "outputs": [],
   "source": [
    "# 4) plot image data (individual distributions)\n",
    "\n",
    "import matplotlib as mpl\n",
    "%matplotlib ipympl\n",
    "\n",
    "# suppress cryptic warning about missing (`np.nan`) data\n",
    "warnings.filterwarnings(\"ignore\", message=\"invalid value encountered in det\")\n",
    "\n",
    "# change limit of opened plots before warning is displayed\n",
    "mpl.rcParams['figure.max_open_warning'] = max_plots_warn\n",
    "\n",
    "# prepare figure dimensions\n",
    "dpi = mpl.pyplot.rcParams[\"figure.dpi\"]\n",
    "min_pixw, min_pixh = figure_dimensions\n",
    "min_width, min_height = min_pixw / dpi, min_pixh / dpi\n",
    "mpl.pyplot.rcParams[\"figure.figsize\"] = [min_width, min_height]\n",
    "\n",
    "# prepare variables for plotting\n",
    "xy_vals = list(zip(*[(chan, stats[\"mean\"]) for chan, stats in chans_stats.items()]))\n",
    "\n",
    "# create violin plot\n",
    "fig, ax = mpl.pyplot.subplots()\n",
    "ax.set_xticks(range(1, len(xy_vals[0]) + 1), labels=chans, rotation=90)\n",
    "vp = ax.violinplot(xy_vals[1], showmeans=True, showextrema=False)\n",
    "\n",
    "# adjust colors\n",
    "for p in vp[\"bodies\"]:\n",
    "    p.set_facecolor(\"black\")\n",
    "    p.set_edgecolor(\"black\")\n",
    "for m in [\"cmeans\"]:\n",
    "    vp[m].set_edgecolor(\"red\")\n",
    "\n",
    "# add legend\n",
    "legend = mpl.pyplot.legend(\n",
    "    [vp[\"bodies\"][0]],\n",
    "    [\"means\"],\n",
    ")\n",
    "\n",
    "# add jittered dots\n",
    "jit_means = np.concatenate(xy_vals[1])\n",
    "jit = np.random.normal(0, 0.01, size=jit_means.size)\n",
    "positions = np.repeat(np.arange(1, len(xy_vals[0]) + 1), len(xy_vals[1][0])) + jit\n",
    "ax.scatter(positions, jit_means, color=\"black\", s=5)\n",
    "\n",
    "# adjust axes\n",
    "mpl.pyplot.minorticks_on()\n",
    "\n",
    "# add Y-axis label\n",
    "mpl.pyplot.ylabel(\"Raw value [a.u.]\")\n",
    "\n",
    "# add grid\n",
    "mpl.pyplot.grid(color=\"gray\", linewidth=0.25)\n",
    "\n",
    "# show plot\n",
    "mpl.pyplot.tight_layout()\n",
    "mpl.pyplot.show()\n",
    "\n",
    "print(\"-> Completed.\")"
   ]
  },
  {
   "cell_type": "markdown",
   "id": "7fba2dbb-9bbe-4855-a89b-b05b8580aad2",
   "metadata": {
    "editable": false,
    "slideshow": {
     "slide_type": ""
    },
    "tags": []
   },
   "source": [
    "### Stability: Levey-Jennings Charts"
   ]
  },
  {
   "cell_type": "code",
   "execution_count": null,
   "id": "09d30227-ebce-448c-84bd-bc8755de8c56",
   "metadata": {
    "editable": false,
    "jupyter": {
     "source_hidden": true
    },
    "slideshow": {
     "slide_type": ""
    },
    "tags": []
   },
   "outputs": [],
   "source": [
    "# 5) plot image data (individual stability)\n",
    "\n",
    "%matplotlib ipympl\n",
    "\n",
    "chans_lims = {}\n",
    "for c, chan in enumerate(chans):\n",
    "    print(f\"\\n{chan}:\")\n",
    "\n",
    "    # create new plot\n",
    "    fig = mpl.pyplot.figure()\n",
    "    ax = fig.add_subplot(111)  # row, column, index\n",
    "\n",
    "    # prepare variables for plotting\n",
    "    chan_xy_vals = range(len(chans_stats[chan][\"mean\"])), chans_stats[chan][\"mean\"]\n",
    "    chan_mean = np.nanmean(chans_stats[chan][\"mean\"])\n",
    "    chan_std = np.nanstd(chans_stats[chan][\"mean\"])\n",
    "\n",
    "    # add channel limits\n",
    "    chans_lims[chan] = {\"levje\": {}}\n",
    "    chans_lims_keys = [(\"+2std\", \"-2std\"), (\"+1std\", \"-1std\")]\n",
    "    chans_lims[chan][\"levje\"] = {\n",
    "        chans_lims_keys[0][0]: chan_mean + 2.0 * chan_std,\n",
    "        chans_lims_keys[1][0]: chan_mean + 1.0 * chan_std,\n",
    "        chans_lims_keys[1][1]: chan_mean - 1.0 * chan_std,\n",
    "        chans_lims_keys[0][1]: chan_mean - 2.0 * chan_std,\n",
    "    }\n",
    "    for upper, lower in chans_lims_keys:\n",
    "        mpl.pyplot.fill_between(\n",
    "            chan_xy_vals[0],\n",
    "            chans_lims[chan][\"levje\"][upper],\n",
    "            chans_lims[chan][\"levje\"][lower],\n",
    "            color=\"black\",\n",
    "            alpha=0.1,\n",
    "        )\n",
    "        mpl.pyplot.annotate(\n",
    "            upper,\n",
    "            xy=(-0.1, chans_lims[chan][\"levje\"][upper]),\n",
    "            ha=\"center\",\n",
    "            va=\"center\",\n",
    "            color=\"dimgray\",\n",
    "        )\n",
    "        mpl.pyplot.annotate(\n",
    "            lower,\n",
    "            xy=(-0.1, chans_lims[chan][\"levje\"][lower]),\n",
    "            ha=\"center\",\n",
    "            va=\"center\",\n",
    "            color=\"dimgray\",\n",
    "        )\n",
    "\n",
    "    # add channel mean\n",
    "    mpl.pyplot.plot(\n",
    "        [chan_xy_vals[0][0], chan_xy_vals[0][-1]],\n",
    "        [chan_mean, chan_mean],\n",
    "        \"red\",\n",
    "        label=\"_\",\n",
    "        linewidth=1,\n",
    "    )\n",
    "    mpl.pyplot.annotate(\n",
    "        \"mean\", xy=(-0.1, chan_mean), ha=\"center\", va=\"center\", color=\"red\"\n",
    "    )\n",
    "\n",
    "    # plot error bars\n",
    "    mpl.pyplot.errorbar(\n",
    "        chan_xy_vals[0],\n",
    "        chan_xy_vals[1],\n",
    "        fmt=\"o-\",\n",
    "        linewidth=1,\n",
    "        markersize=3,\n",
    "        color=\"black\",\n",
    "        label=chan,\n",
    "    )\n",
    "\n",
    "    # add legend\n",
    "    mpl.pyplot.legend()\n",
    "\n",
    "    # adjust axes\n",
    "    mpl.pyplot.minorticks_on()\n",
    "\n",
    "    # add axes labels\n",
    "    mpl.pyplot.ylabel(\"Raw value [a.u.]\")\n",
    "    if chan == chans[-1]:\n",
    "        mpl.pyplot.xlabel(\"Image index\")\n",
    "\n",
    "    # add grid\n",
    "    mpl.pyplot.grid(color=\"gray\", linewidth=0.25)\n",
    "\n",
    "    # define image file path closest to cursor\n",
    "    img_at_cursor = ax.text(\n",
    "        0.5,\n",
    "        0.975,\n",
    "        \"\",\n",
    "        transform=ax.transAxes,\n",
    "        ha=\"center\",\n",
    "        va=\"center\",\n",
    "        fontsize=10,\n",
    "        color=\"red\",\n",
    "    )\n",
    "\n",
    "    # find image file path closest to cursor\n",
    "    def show_img(\n",
    "        event, chan_xy_vals=chan_xy_vals, files=files, text=img_at_cursor, fig=fig\n",
    "    ):\n",
    "        if event.inaxes:  # and event.xdata is not None and event.ydata is not None:\n",
    "            dists_to_cursor = np.abs(chan_xy_vals[0] - event.xdata)\n",
    "            closest_index = np.argmin(dists_to_cursor)\n",
    "            text.set_text(f'{closest_index} => \"{imgs_paths[closest_index]}\"')\n",
    "        else:\n",
    "            text.set_text(\"\")\n",
    "\n",
    "    # show image file path closest to cursor\n",
    "    fig.canvas.mpl_connect(\"motion_notify_event\", show_img)\n",
    "\n",
    "    # show plot\n",
    "    mpl.pyplot.tight_layout()\n",
    "    mpl.pyplot.show()\n",
    "\n",
    "print(\"-> Completed.\")"
   ]
  },
  {
   "cell_type": "markdown",
   "id": "b72565d4-4cfe-4d36-a112-7665eb4cd9d1",
   "metadata": {
    "editable": false,
    "slideshow": {
     "slide_type": ""
    },
    "tags": []
   },
   "source": [
    "### Outliers I"
   ]
  },
  {
   "cell_type": "code",
   "execution_count": null,
   "id": "53e9e177-de76-439d-b976-9bf07ccb98e4",
   "metadata": {
    "editable": false,
    "jupyter": {
     "source_hidden": true
    },
    "slideshow": {
     "slide_type": ""
    },
    "tags": []
   },
   "outputs": [],
   "source": [
    "# 6) list outliers for image data (individual stability)\n",
    "if list_outliers:\n",
    "    chans_outliers = {}\n",
    "    for chan in chans:\n",
    "        chans_outliers[chan] = {\n",
    "            \"levje\": {\"+2std\": [], \"+1std\": [], \"-1std\": [], \"-2std\": []}\n",
    "        }\n",
    "        print(\n",
    "            f\"{chan} @ {', '.join([f'{value}{unit}' for value, unit in sorted(set(expos_found[chan]))])}\"\n",
    "        )\n",
    "        for img, mean in zip(imgs, chans_stats[chan][\"mean\"]):\n",
    "            if mean > chans_lims[chan][\"levje\"][\"+2std\"]:\n",
    "                chans_outliers[chan][\"levje\"][\"+2std\"].append((img, mean))\n",
    "            elif mean < chans_lims[chan][\"levje\"][\"-2std\"]:\n",
    "                chans_outliers[chan][\"levje\"][\"-2std\"].append((img, mean))\n",
    "            elif mean > chans_lims[chan][\"levje\"][\"+1std\"]:\n",
    "                chans_outliers[chan][\"levje\"][\"+1std\"].append((img, mean))\n",
    "            elif mean < chans_lims[chan][\"levje\"][\"-1std\"]:\n",
    "                chans_outliers[chan][\"levje\"][\"-1std\"].append((img, mean))\n",
    "        if chans_outliers[chan][\"levje\"][\"+2std\"]:\n",
    "            print(\"\\t▲▲ +2std\")\n",
    "            for img, mean in chans_outliers[chan][\"levje\"][\"+2std\"]:\n",
    "                print(f\"\\t\\t{mean:7.1f} -> {img}\")\n",
    "        if chans_outliers[chan][\"levje\"][\"+1std\"]:\n",
    "            print(\"\\t▲ +1std\")\n",
    "            for img, mean in chans_outliers[chan][\"levje\"][\"+1std\"]:\n",
    "                print(f\"\\t\\t{mean:7.1f} -> {img}\")\n",
    "        if chans_outliers[chan][\"levje\"][\"-1std\"]:\n",
    "            print(\"\\t▼ -1std\")\n",
    "            for img, mean in chans_outliers[chan][\"levje\"][\"-1std\"]:\n",
    "                print(f\"\\t\\t{mean:7.1f} -> {img}\")\n",
    "        if chans_outliers[chan][\"levje\"][\"-2std\"]:\n",
    "            print(\"\\t▼▼ -2std\")\n",
    "            for img, mean in chans_outliers[chan][\"levje\"][\"-2std\"]:\n",
    "                print(f\"\\t\\t{mean:7.1f} -> {img}\")\n",
    "    \n",
    "    print(\"\\n-> Completed.\")"
   ]
  },
  {
   "cell_type": "markdown",
   "id": "bb611fdd-577d-41ce-912b-48dafadab306",
   "metadata": {
    "editable": false,
    "slideshow": {
     "slide_type": ""
    },
    "tags": []
   },
   "source": [
    "### Sampling II"
   ]
  },
  {
   "cell_type": "code",
   "execution_count": null,
   "id": "26948a85-44df-441c-9f47-6eac5ac2887e",
   "metadata": {
    "editable": false,
    "jupyter": {
     "source_hidden": true
    },
    "slideshow": {
     "slide_type": ""
    },
    "tags": []
   },
   "outputs": [],
   "source": [
    "# 7) retrieve image data (group statistics)\n",
    "files_len = len(files)\n",
    "start = time.time()\n",
    "update_start = \"\"\n",
    "update_stop = \"\"\n",
    "update_max = 0\n",
    "for count, file in enumerate(files, start=1):\n",
    "    update_start = f\"IMAGE: {file}\\t[{count}/{files_len}]\"\n",
    "    update_len = len(update_start) + len(update_stop)\n",
    "    update_max = update_len if update_len > update_max else update_max\n",
    "    print(f\"\\r{update_start}{update_stop}{' ':<{update_max - update_len}}\", end=\"\")\n",
    "\n",
    "    # get group image statistics\n",
    "    tmp = laq.copy_file(file) if copy_images else file  # optional file copy\n",
    "    img = laq.get_img(tmp)\n",
    "    imgs_chans_stats[file].update(\n",
    "        laq.get_img_chans_stats(\n",
    "            img, annos=annos[file], chans_limits=channel_limits, chans_means=chans_means\n",
    "        )\n",
    "    )\n",
    "\n",
    "    # remove image objects\n",
    "    img[\"tiff\"].close()\n",
    "    if copy_images and tmp != file:\n",
    "        shutil.rmtree(os.path.dirname(tmp))\n",
    "\n",
    "    update_stop = f\" (-{laq.get_time_left(start, count, len(files))})\"\n",
    "print(f\"\\r{' ' * update_max}\\r\", end=\"\")  # clear line\n",
    "\n",
    "print(\"\\n-> Completed.\")"
   ]
  },
  {
   "cell_type": "markdown",
   "id": "9d6d66e0-0c1d-456f-babe-3c4449b83ecf",
   "metadata": {
    "editable": false,
    "slideshow": {
     "slide_type": ""
    },
    "tags": []
   },
   "source": [
    "### Summary II"
   ]
  },
  {
   "cell_type": "code",
   "execution_count": null,
   "id": "9db3157f-5bfb-4844-87de-8c2a2ee9e6e4",
   "metadata": {
    "editable": false,
    "jupyter": {
     "source_hidden": true
    },
    "slideshow": {
     "slide_type": ""
    },
    "tags": []
   },
   "outputs": [],
   "source": [
    "# 8) print image data (group statistics)\n",
    "order = [\"band_3\", \"lim_2\", \"band_2\", \"lim_1\", \"band_1\", \"lim_0\", \"band_0\"]\n",
    "stats = sorted(\n",
    "    list(\n",
    "        set(\n",
    "            stat\n",
    "            for chans_stats in imgs_chans_stats.values()\n",
    "            for stat in chans_stats.values()\n",
    "            for stat in stat.keys()\n",
    "        )\n",
    "    ),\n",
    "    key=lambda x: order.index(x),\n",
    ")\n",
    "chans_stats = {\n",
    "    chan: {\n",
    "        stat: np.asarray(\n",
    "            [\n",
    "                imgs_chans_stats[img][chan][stat]\n",
    "                if chan in imgs_chans_stats[img]\n",
    "                else None\n",
    "                for img in imgs_chans_stats.keys()\n",
    "            ],\n",
    "            dtype=np.float64,\n",
    "        )\n",
    "        for stat in stats\n",
    "    }\n",
    "    for chan in chans\n",
    "}\n",
    "\n",
    "# print data\n",
    "for chan in chans:\n",
    "    print(\n",
    "        f\"{chan} @ {', '.join([f'{value}{unit}' for value, unit in sorted(set(expos_found[chan]))])}\"\n",
    "    )\n",
    "    for stat in stats:\n",
    "        print(\n",
    "            f\"\\t{stat}\\t{np.nanmean(chans_stats[chan][stat]):7.1f} (mean)\\t{np.nanstd(chans_stats[chan][stat]):7.1f} (std)\"\n",
    "        )\n",
    "\n",
    "print(\"\\n-> Completed.\")"
   ]
  },
  {
   "cell_type": "markdown",
   "id": "ac9550e2-8b0c-46aa-9630-1cad5ca817c1",
   "metadata": {
    "editable": false,
    "slideshow": {
     "slide_type": ""
    },
    "tags": []
   },
   "source": [
    "### Dynamics: C-Band Charts"
   ]
  },
  {
   "cell_type": "code",
   "execution_count": null,
   "id": "d7f08343-dbf6-409e-9aa4-d124a7af6f73",
   "metadata": {
    "editable": false,
    "jupyter": {
     "source_hidden": true
    },
    "slideshow": {
     "slide_type": ""
    },
    "tags": []
   },
   "outputs": [],
   "source": [
    "# 9) plot image data (group statistics)\n",
    "\n",
    "%matplotlib ipympl\n",
    "\n",
    "bands = [stat for stat in stats if stat.startswith(\"band_\")]\n",
    "for c, chan in enumerate(chans):\n",
    "    print(f\"\\n{chan}:\")\n",
    "\n",
    "    # create new plot\n",
    "    fig = mpl.pyplot.figure()\n",
    "    ax = fig.add_subplot(111)  # row, column, index\n",
    "\n",
    "    # prepare variables for plotting\n",
    "    chan_max = chans_means[chan][\"max\"]\n",
    "    chan_mean = chans_means[chan][\"mean\"]\n",
    "    chan_min = chans_means[chan][\"min\"]\n",
    "\n",
    "    chans_lims[chan][\"cbands\"] = {}\n",
    "    for b, band in enumerate(bands, start=1):\n",
    "        # prepare variables for plotting\n",
    "        band_xy_vals = range(len(chans_stats[chan][band])), chans_stats[chan][band]\n",
    "        band_mean = np.nanmean(chans_stats[chan][band])\n",
    "        band_std = np.nanstd(chans_stats[chan][band])\n",
    "\n",
    "        # add channel bands limits\n",
    "        band_lims_keys = [(\"+2std\", \"-2std\"), (\"+1std\", \"-1std\")]\n",
    "        chans_lims[chan][\"cbands\"][band] = {\n",
    "            band_lims_keys[0][0]: band_mean + 2.0 * band_std,\n",
    "            band_lims_keys[1][0]: band_mean + 1.0 * band_std,\n",
    "            band_lims_keys[1][1]: band_mean - 1.0 * band_std,\n",
    "            band_lims_keys[0][1]: band_mean - 2.0 * band_std,\n",
    "        }\n",
    "        for upper, lower in band_lims_keys:\n",
    "            mpl.pyplot.fill_between(\n",
    "                band_xy_vals[0],\n",
    "                chans_lims[chan][\"cbands\"][band][upper],\n",
    "                chans_lims[chan][\"cbands\"][band][lower],\n",
    "                color=\"black\",\n",
    "                alpha=0.1,\n",
    "            )\n",
    "            mpl.pyplot.annotate(\n",
    "                upper,\n",
    "                xy=(-0.1, chans_lims[chan][\"cbands\"][band][upper]),\n",
    "                ha=\"center\",\n",
    "                va=\"center\",\n",
    "                color=\"dimgray\",\n",
    "            )\n",
    "            mpl.pyplot.annotate(\n",
    "                lower,\n",
    "                xy=(-0.1, chans_lims[chan][\"cbands\"][band][lower]),\n",
    "                ha=\"center\",\n",
    "                va=\"center\",\n",
    "                color=\"dimgray\",\n",
    "            )\n",
    "\n",
    "        # add channel band mean\n",
    "        mpl.pyplot.plot(\n",
    "            [band_xy_vals[0][0], band_xy_vals[0][-1]],\n",
    "            [band_mean, band_mean],\n",
    "            \"r--\",\n",
    "            label=\"_\",\n",
    "            linewidth=1,\n",
    "        )\n",
    "        mpl.pyplot.annotate(\n",
    "            \"mean\", xy=(-0.1, band_mean), ha=\"center\", va=\"center\", color=\"red\"\n",
    "        )\n",
    "\n",
    "        # plot channel band error bars\n",
    "        mpl.pyplot.errorbar(\n",
    "            band_xy_vals[0],\n",
    "            band_xy_vals[1],\n",
    "            fmt=\"o-\",\n",
    "            linewidth=1,\n",
    "            markersize=3,\n",
    "            color=\"black\",\n",
    "            label=chan,\n",
    "        )\n",
    "\n",
    "    # add band limits\n",
    "    for stat in stats:\n",
    "        if stat.startswith(\"lim_\"):\n",
    "            band_lim = np.nanmean(chans_stats[chan][stat])\n",
    "            mpl.pyplot.plot(\n",
    "                [band_xy_vals[0][0], band_xy_vals[0][-1]],\n",
    "                [band_lim, band_lim],\n",
    "                \"--\",\n",
    "                color=\"gray\",\n",
    "                label=\"_\",\n",
    "                linewidth=1,\n",
    "            )\n",
    "            mpl.pyplot.annotate(\n",
    "                stat,\n",
    "                xy=(-0.1, band_lim),\n",
    "                ha=\"center\",\n",
    "                va=\"center\",\n",
    "                color=\"gray\",\n",
    "            )\n",
    "\n",
    "    # add legend\n",
    "    handles, labels = mpl.pyplot.gca().get_legend_handles_labels()\n",
    "    mpl.pyplot.legend([handles[0]], [labels[0]])\n",
    "\n",
    "    # adjust axes\n",
    "    mpl.pyplot.minorticks_on()\n",
    "\n",
    "    # add axes labels\n",
    "    mpl.pyplot.ylabel(\"Raw value [a.u.]\")\n",
    "    if chan == chans[-1]:\n",
    "        mpl.pyplot.xlabel(\"Image index\")\n",
    "\n",
    "    # add grid\n",
    "    mpl.pyplot.grid(color=\"gray\", linewidth=0.25)\n",
    "\n",
    "    # define image file path closest to cursor\n",
    "    img_at_cursor = ax.text(\n",
    "        0.5,\n",
    "        0.975,\n",
    "        \"\",\n",
    "        transform=ax.transAxes,\n",
    "        ha=\"center\",\n",
    "        va=\"center\",\n",
    "        fontsize=10,\n",
    "        color=\"red\",\n",
    "    )\n",
    "\n",
    "    # find image file path closest to cursor\n",
    "    def show_img(\n",
    "        event, chan_xy_vals=chan_xy_vals, files=files, text=img_at_cursor, fig=fig\n",
    "    ):\n",
    "        if event.inaxes:  # and event.xdata is not None and event.ydata is not None:\n",
    "            dists_to_cursor = np.abs(chan_xy_vals[0] - event.xdata)\n",
    "            closest_index = np.argmin(dists_to_cursor)\n",
    "            text.set_text(f'{closest_index} => \"{imgs_paths[closest_index]}\"')\n",
    "        else:\n",
    "            text.set_text(\"\")\n",
    "\n",
    "    # show image file path closest to cursor\n",
    "    fig.canvas.mpl_connect(\"motion_notify_event\", show_img)\n",
    "\n",
    "    # show plot\n",
    "    mpl.pyplot.tight_layout()\n",
    "    mpl.pyplot.show()\n",
    "\n",
    "print(\"-> Completed.\")"
   ]
  },
  {
   "cell_type": "markdown",
   "id": "46e1667a-a75a-47d0-ace3-230baeae6267",
   "metadata": {
    "editable": false,
    "slideshow": {
     "slide_type": ""
    },
    "tags": []
   },
   "source": [
    "### Outliers II"
   ]
  },
  {
   "cell_type": "code",
   "execution_count": null,
   "id": "d70d3507-5b89-48ee-b7af-ad54967fafa2",
   "metadata": {
    "editable": false,
    "jupyter": {
     "source_hidden": true
    },
    "slideshow": {
     "slide_type": ""
    },
    "tags": []
   },
   "outputs": [],
   "source": [
    "# 10) list outliers for image data (group statistics)\n",
    "if list_outliers:\n",
    "    for chan in chans:\n",
    "        print(\n",
    "            f\"{chan} @ {', '.join([f'{value}{unit}' for value, unit in sorted(set(expos_found[chan]))])}\"\n",
    "        )\n",
    "        chans_outliers[chan] = {\n",
    "            \"cbands\": {\n",
    "                \"band_0\": {\"+2std\": [], \"+1std\": [], \"-1std\": [], \"-2std\": []},\n",
    "                \"band_1\": {\"+2std\": [], \"+1std\": [], \"-1std\": [], \"-2std\": []},\n",
    "                \"band_2\": {\"+2std\": [], \"+1std\": [], \"-1std\": [], \"-2std\": []},\n",
    "                \"band_3\": {\"+2std\": [], \"+1std\": [], \"-1std\": [], \"-2std\": []},\n",
    "            }\n",
    "        }\n",
    "        for band in bands:\n",
    "            print(f\"\\t{band}\")\n",
    "            for img, mean in zip(imgs, chans_stats[chan][band]):\n",
    "                if mean > chans_lims[chan][\"cbands\"][band][\"+2std\"]:\n",
    "                    chans_outliers[chan][\"cbands\"][band][\"+2std\"].append((img, mean))\n",
    "                elif mean < chans_lims[chan][\"cbands\"][band][\"-2std\"]:\n",
    "                    chans_outliers[chan][\"cbands\"][band][\"-2std\"].append((img, mean))\n",
    "                elif mean > chans_lims[chan][\"cbands\"][band][\"+1std\"]:\n",
    "                    chans_outliers[chan][\"cbands\"][band][\"+1std\"].append((img, mean))\n",
    "                elif mean < chans_lims[chan][\"cbands\"][band][\"-1std\"]:\n",
    "                    chans_outliers[chan][\"cbands\"][band][\"-1std\"].append((img, mean))\n",
    "            if chans_outliers[chan][\"cbands\"][band][\"+2std\"]:\n",
    "                print(\"\\t\\t▲▲ +2std\")\n",
    "                for img, mean in chans_outliers[chan][\"cbands\"][band][\"+2std\"]:\n",
    "                    print(f\"\\t\\t\\t{mean:7.1f} -> {img}\")\n",
    "            if chans_outliers[chan][\"cbands\"][band][\"+1std\"]:\n",
    "                print(\"\\t\\t▲ +1std\")\n",
    "                for img, mean in chans_outliers[chan][\"cbands\"][band][\"+1std\"]:\n",
    "                    print(f\"\\t\\t\\t{mean:7.1f} -> {img}\")\n",
    "            if chans_outliers[chan][\"cbands\"][band][\"-1std\"]:\n",
    "                print(\"\\t\\t▼ -1std\")\n",
    "                for img, mean in chans_outliers[chan][\"cbands\"][band][\"-1std\"]:\n",
    "                    print(f\"\\t\\t\\t{mean:7.1f} -> {img}\")\n",
    "            if chans_outliers[chan][\"cbands\"][band][\"-2std\"]:\n",
    "                print(\"\\t\\t▼▼ -2std\")\n",
    "                for img, mean in chans_outliers[chan][\"cbands\"][band][\"-2std\"]:\n",
    "                    print(f\"\\t\\t\\t{mean:7.1f} -> {img}\")\n",
    "\n",
    "    print(\"\\n-> Completed.\")"
   ]
  }
 ],
 "metadata": {
  "kernelspec": {
   "display_name": "Python 3 (ipykernel)",
   "language": "python",
   "name": "python3"
  },
  "language_info": {
   "codemirror_mode": {
    "name": "ipython",
    "version": 3
   },
   "file_extension": ".py",
   "mimetype": "text/x-python",
   "name": "python",
   "nbconvert_exporter": "python",
   "pygments_lexer": "ipython3",
   "version": "3.13.7"
  },
  "widgets": {
   "application/vnd.jupyter.widget-state+json": {
    "state": {},
    "version_major": 2,
    "version_minor": 0
   }
  }
 },
 "nbformat": 4,
 "nbformat_minor": 5
}

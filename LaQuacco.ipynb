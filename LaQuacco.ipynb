{
 "cells": [
  {
   "cell_type": "markdown",
   "id": "2565f104-b2a8-4c28-803f-b827cd8420e9",
   "metadata": {
    "editable": false,
    "slideshow": {
     "slide_type": ""
    },
    "tags": []
   },
   "source": [
    "# LaQuacco 🍅🍅🍅"
   ]
  },
  {
   "cell_type": "markdown",
   "id": "39a22ed4-a836-4972-8ffc-761d5118a00f",
   "metadata": {
    "editable": false,
    "slideshow": {
     "slide_type": ""
    },
    "tags": []
   },
   "source": [
    "### Laboratory Quality Control v2.0 (2024-10-01)"
   ]
  },
  {
   "cell_type": "raw",
   "id": "bbf9ceea-49d6-4ad1-929c-359f357e2caa",
   "metadata": {
    "editable": false,
    "jupyter": {
     "source_hidden": true
    },
    "raw_mimetype": "",
    "slideshow": {
     "slide_type": ""
    },
    "tags": []
   },
   "source": [
    "Copyright 2023 The Regents of the University of Colorado\n",
    "\n",
    "This file is part of LaQuacco.\n",
    "\n",
    "LaQuacco is free software: you can redistribute it and/or modify it\n",
    "under the terms of the GNU General Public License as published by\n",
    "the Free Software Foundation, either version 3 of the License, or\n",
    "(at your option) any later version.\n",
    "\n",
    "LaQuacco is distributed in the hope that it will be useful,\n",
    "but WITHOUT ANY WARRANTY; without even the implied warranty of\n",
    "MERCHANTABILITY or FITNESS FOR A PARTICULAR PURPOSE. See the\n",
    "GNU General Public License for more details.\n",
    "\n",
    "You should have received a copy of the GNU General Public License\n",
    "along with this program. If not, see <https://www.gnu.org/licenses/>.\n",
    "\n",
    "Author:     Christian Rickert <christian.rickert@cuanschutz.edu>\n",
    "Group:      Human Immune Monitoring Shared Resource (HIMSR)\n",
    "            University of Colorado, Anschutz Medical Campus\n",
    "\n",
    "Title:      LaQuacco\n",
    "Summary:    Laboratory Quality Control\n",
    "DOI:        # TODO\n",
    "URL:        https://github.com/himsr-lab/LaQuacco"
   ]
  },
  {
   "cell_type": "markdown",
   "id": "00270863-5490-4b49-a22c-3b234b197d2c",
   "metadata": {
    "editable": false,
    "slideshow": {
     "slide_type": ""
    },
    "tags": []
   },
   "source": [
    "#### https://github.com/himsr-lab/LaQuacco"
   ]
  },
  {
   "cell_type": "markdown",
   "id": "0373d7a4-cb60-4fe6-962b-53dcdc3b053f",
   "metadata": {
    "editable": false,
    "slideshow": {
     "slide_type": ""
    },
    "tags": []
   },
   "source": [
    "### User Input"
   ]
  },
  {
   "cell_type": "code",
   "execution_count": null,
   "id": "1080d014-b553-467a-9847-f1a9f9160773",
   "metadata": {
    "editable": true,
    "slideshow": {
     "slide_type": ""
    },
    "tags": []
   },
   "outputs": [],
   "source": [
    "# 6) adjust runtime behavior\n",
    "\"\"\"\n",
    "Basic: Adjust these variable values as needed.\n",
    "\"\"\"\n",
    "\n",
    "images_path = r\"./tests\"  # absolute or relative path\n",
    "images_included = \"*.ome.tiff\"  # extension must match\n",
    "images_excluded = \"\"  # extension must not match\n",
    "\n",
    "\"\"\"\n",
    "Advanced: Adjust these variables to customize runtime behavior.\n",
    "\"\"\"\n",
    "# define closed channel intervals with endpoints\n",
    "channel_limits = {\"*\": {\"lower\": None, \"upper\": None}}  # all channels\n",
    "copy_images = False  # increases performance for network drives\n",
    "figure_dimensions = (1460, 822)  # width and height in pixels\n",
    "recursive_search = False  # search recursively for image files at path\n",
    "\n",
    "\"\"\"\n",
    "Check:  Running this cell lists all image files found.\n",
    "\"\"\"\n",
    "import os\n",
    "import laquacco as laq\n",
    "\n",
    "files = laq.get_files(\n",
    "    path=os.path.abspath(images_path),\n",
    "    pat=images_included,\n",
    "    anti=images_excluded,\n",
    "    recurse=recursive_search,\n",
    ")\n",
    "print(f\"Images: {len(files)}\")\n",
    "dirs_files = {\n",
    "    dir: [os.path.basename(file) for file in files if os.path.dirname(file) == dir]\n",
    "    for dir in set(os.path.dirname(file) for file in files)\n",
    "}\n",
    "dirs_files = dict(sorted(dirs_files.items()))\n",
    "for dir, dir_files in dirs_files.items():\n",
    "    print(f\"=> {dir}\")\n",
    "    print(f\"{sorted(dir_files)}\")\n",
    "\n",
    "print(\"\\nCompleted.\")"
   ]
  },
  {
   "cell_type": "markdown",
   "id": "8fb95c45-92f9-41d5-9009-c2faf2aa82d6",
   "metadata": {
    "editable": false,
    "slideshow": {
     "slide_type": ""
    },
    "tags": []
   },
   "source": [
    "### Sampling I"
   ]
  },
  {
   "cell_type": "code",
   "execution_count": null,
   "id": "454c6bf7-ce21-4709-937c-9ab491b72cdf",
   "metadata": {
    "editable": false,
    "jupyter": {
     "source_hidden": true
    },
    "slideshow": {
     "slide_type": ""
    },
    "tags": []
   },
   "outputs": [],
   "source": [
    "# 8) retrieve image data (individual statistics)\n",
    "import os\n",
    "import shutil\n",
    "import time\n",
    "\n",
    "imgs = {}  # image dictionary\n",
    "imgs_chans_stats = {}  # statistics dictionary\n",
    "\n",
    "start = time.time()\n",
    "update_start = \"\"\n",
    "update_stop = \"\"\n",
    "update_max = 0\n",
    "files_len = len(files)\n",
    "for count, file in enumerate(files, start=1):\n",
    "    update_len = len(update_start) + len(update_stop)\n",
    "    update_max = update_len if update_len > update_max else update_max\n",
    "    update_start = f\"IMAGE: {file}\\t[{count}/{files_len}]\"\n",
    "    print(f\"\\r{update_start}{update_stop}{' ':<{update_max - update_len}}\", end=\"\")\n",
    "\n",
    "    # get individual statistics\n",
    "    tmp = laq.copy_file(file) if copy_images else file  # optional file copy\n",
    "    img = laq.get_img(tmp)\n",
    "    imgs[file] = {k: v for k, v in img.items()}\n",
    "    imgs_chans_stats[file] = laq.get_img_chans_stats(\n",
    "        imgs[file], chans_limits=channel_limits\n",
    "    )\n",
    "\n",
    "    # remove image objects\n",
    "    img[\"tiff\"].close()\n",
    "    if copy_images and tmp != file:\n",
    "        shutil.rmtree(os.path.dirname(tmp))\n",
    "\n",
    "    update_stop = f\" (-{laq.get_time_left(start, count, len(files))})\"\n",
    "print(f\"\\r{' ' * update_max}\\r\", end=\"\")  # clear line\n",
    "\n",
    "print(\"\\n-> Completed.\")"
   ]
  },
  {
   "cell_type": "markdown",
   "id": "a4158426-b66d-446a-b3ff-cdbd3ab29fa0",
   "metadata": {
    "editable": false,
    "slideshow": {
     "slide_type": ""
    },
    "tags": []
   },
   "source": [
    "### Summary I"
   ]
  },
  {
   "cell_type": "code",
   "execution_count": null,
   "id": "71719261-bc6e-47fe-af2a-d59d799bdbd6",
   "metadata": {
    "editable": false,
    "jupyter": {
     "source_hidden": true
    },
    "slideshow": {
     "slide_type": ""
    },
    "tags": []
   },
   "outputs": [],
   "source": [
    "# 10) print image data (individual statistics)\n",
    "import warnings\n",
    "import numpy as np\n",
    "\n",
    "# sort data by acquisition\n",
    "sorted_acqs = sorted(imgs.keys(), key=lambda k: imgs[k][\"datetimes\"][0])\n",
    "imgs = {k: imgs[k] for k in sorted_acqs}\n",
    "imgs_chans_stats = {k: imgs_chans_stats[k] for k in sorted_acqs}\n",
    "\n",
    "# get data summary\n",
    "chans = sorted(\n",
    "    list(\n",
    "        set(\n",
    "            chan\n",
    "            for chans_stats in imgs_chans_stats.values()\n",
    "            for chan in chans_stats.keys()\n",
    "        )\n",
    "    )\n",
    ")\n",
    "stats = sorted(\n",
    "    list(\n",
    "        set(\n",
    "            stat\n",
    "            for chans_stats in imgs_chans_stats.values()\n",
    "            for stat in chans_stats.values()\n",
    "            for stat in stat.keys()\n",
    "        )\n",
    "    )\n",
    ")\n",
    "chans_stats = {\n",
    "    chan: {\n",
    "        stat: np.array(\n",
    "            [\n",
    "                imgs_chans_stats[img][chan][stat]\n",
    "                if chan in imgs_chans_stats[img]\n",
    "                else None\n",
    "                for img in imgs_chans_stats.keys()\n",
    "            ],\n",
    "            dtype=np.float64,\n",
    "        )\n",
    "        for stat in stats\n",
    "    }\n",
    "    for chan in chans\n",
    "}\n",
    "chans_means = {\n",
    "    chan: {\n",
    "        stat: np.nanmean(\n",
    "            chans_stats[chan][stat]\n",
    "            if chan in chans_stats and stat in chans_stats[chan]\n",
    "            else np.nan\n",
    "        )\n",
    "        for stat in stats\n",
    "    }\n",
    "    for chan in chans\n",
    "}\n",
    "\n",
    "# check data (appears after prints)\n",
    "def min_warning(message, category, filename, lineno, line=None):\n",
    "    return f\"{category.__name__}: {message}\\n\"\n",
    "warnings.formatwarning = min_warning  # category and message\n",
    "warnings.simplefilter(\"always\", UserWarning)  # do repeat\n",
    "expos_found = {\n",
    "    chan: [\n",
    "        expo\n",
    "        for meta in imgs.values()\n",
    "        for ch, expo in zip(meta[\"channels\"], meta[\"exposures\"])\n",
    "        if ch == chan\n",
    "    ]\n",
    "    for chan in set(ch for meta in imgs.values() for ch in meta[\"channels\"])\n",
    "}\n",
    "stats_missing = {\n",
    "    chan: [\n",
    "        stat\n",
    "        for stat in chans_stats[chan]\n",
    "        for index, value in enumerate(chans_stats[chan][stat])\n",
    "        if np.isnan(value)\n",
    "    ]\n",
    "    for chan in chans_stats\n",
    "}\n",
    "for chan in chans:\n",
    "    expos_set = sorted(set(expos_found[chan]))\n",
    "    if len(expos_set) > 1:  # exposure times differ\n",
    "        warnings.warn(\n",
    "            f\"{chan}: Exposure times are not identical!\\n{expos_set}\", UserWarning\n",
    "        )\n",
    "    stats_set = sorted(set(stats_missing[chan]))\n",
    "    if len(stats_missing[chan]) > 0:  # statistics incomplete\n",
    "        warnings.warn(\n",
    "            f\"{chan}: Statistics are missing for some images!\\n{stats_set}\",\n",
    "            UserWarning,\n",
    "        )\n",
    "\n",
    "# print data (appears before warnings)\n",
    "imgs_str_len = len(str(len(imgs)))\n",
    "for pos, img in enumerate(imgs):\n",
    "    print(f'{pos:>{imgs_str_len}} => \"{img}\"  # {imgs[img]['datetimes'][0]}')\n",
    "print()\n",
    "for chan in chans:\n",
    "    print(\n",
    "        f\"{chan} @ {', '.join([f'{value}{unit}' for value, unit in sorted(set(expos_found[chan]))])}\"\n",
    "    )\n",
    "    for stat in stats:\n",
    "        print(\n",
    "            f\"\\t{stat}\\t{np.nanstd(chans_stats[chan][stat]):7.1f} (mean)\\t{np.nanstd(chans_stats[chan][stat]):7.1f} (std)\"\n",
    "        )\n",
    "\n",
    "print(\"\\n-> Completed.\")"
   ]
  },
  {
   "cell_type": "markdown",
   "id": "54d14c09-c9cc-4a99-bf77-285cbc78c977",
   "metadata": {
    "editable": false,
    "slideshow": {
     "slide_type": ""
    },
    "tags": []
   },
   "source": [
    "### Distribution - Violin Chart"
   ]
  },
  {
   "cell_type": "code",
   "execution_count": null,
   "id": "03693883-f2c0-498f-99d9-a1ff545a39ba",
   "metadata": {
    "editable": false,
    "jupyter": {
     "source_hidden": true
    },
    "slideshow": {
     "slide_type": ""
    },
    "tags": []
   },
   "outputs": [],
   "source": [
    "# 12) plot image data (individual distributions)\n",
    "\n",
    "import matplotlib as mpl\n",
    "%matplotlib widget\n",
    "\n",
    "# suppress cryptic warning about missing (`np.nan`) data\n",
    "warnings.filterwarnings(\"ignore\", message=\"invalid value encountered in det\")\n",
    "\n",
    "# prepare figure dimensions\n",
    "dpi = mpl.pyplot.rcParams[\"figure.dpi\"]\n",
    "min_pixw, min_pixh = figure_dimensions\n",
    "min_width, min_height = min_pixw / dpi, min_pixh / dpi\n",
    "mpl.pyplot.rcParams[\"figure.figsize\"] = [min_width, min_height]\n",
    "\n",
    "# prepare variables for plotting\n",
    "xy_vals = list(zip(*[(chan, stats[\"mean\"]) for chan, stats in chans_stats.items()]))\n",
    "\n",
    "# create violin plot\n",
    "fig, ax = mpl.pyplot.subplots()\n",
    "ax.set_xticks(range(1, len(xy_vals[0]) + 1), labels=chans, rotation=90)\n",
    "vp = ax.violinplot(xy_vals[1], showmeans=True, showextrema=False)\n",
    "\n",
    "# adjust colors\n",
    "for p in vp[\"bodies\"]:\n",
    "    p.set_facecolor(\"black\")\n",
    "    p.set_edgecolor(\"black\")\n",
    "for m in [\"cmeans\"]:\n",
    "    vp[m].set_edgecolor(\"red\")\n",
    "\n",
    "# add legend\n",
    "legend = mpl.pyplot.legend(\n",
    "    [vp[\"bodies\"][0]],\n",
    "    [\"means\"],\n",
    ")\n",
    "\n",
    "# add jittered dots\n",
    "jit_means = np.concatenate(xy_vals[1])\n",
    "jit = np.random.normal(0, 0.01, size=jit_means.size)\n",
    "positions = np.repeat(np.arange(1, len(xy_vals[0]) + 1), len(xy_vals[1][0])) + jit\n",
    "ax.scatter(positions, jit_means, color=\"black\", s=5)\n",
    "\n",
    "# adjust axes\n",
    "mpl.pyplot.minorticks_on()\n",
    "\n",
    "# add Y-axis label\n",
    "mpl.pyplot.ylabel(\"Raw values [a.u.]\")\n",
    "\n",
    "# add grid\n",
    "mpl.pyplot.grid(color=\"gray\", linewidth=0.25)\n",
    "\n",
    "# show plot\n",
    "mpl.pyplot.tight_layout()\n",
    "mpl.pyplot.show()\n",
    "\n",
    "print(\"-> Completed.\")"
   ]
  },
  {
   "cell_type": "markdown",
   "id": "7fba2dbb-9bbe-4855-a89b-b05b8580aad2",
   "metadata": {
    "editable": false,
    "slideshow": {
     "slide_type": ""
    },
    "tags": []
   },
   "source": [
    "### Stability: Levey-Jennings Charts"
   ]
  },
  {
   "cell_type": "code",
   "execution_count": null,
   "id": "09d30227-ebce-448c-84bd-bc8755de8c56",
   "metadata": {
    "editable": false,
    "jupyter": {
     "source_hidden": true
    },
    "slideshow": {
     "slide_type": ""
    },
    "tags": []
   },
   "outputs": [],
   "source": [
    "# 14) plot image data (individual stability)\n",
    "for c, chan in enumerate(chans):\n",
    "    print(f\"\\n{chan}:\")\n",
    "\n",
    "    # create new plot\n",
    "    mpl.pyplot.figure()\n",
    "\n",
    "    # prepare variables for plotting\n",
    "    chan_xy_vals = range(len(chans_stats[chan][\"mean\"])), chans_stats[chan][\"mean\"]\n",
    "    chan_mean = np.nanmean(chans_stats[chan][\"mean\"])\n",
    "    chan_std = np.nanstd(chans_stats[chan][\"mean\"])\n",
    "\n",
    "    # add channel limits\n",
    "    chan_stds = {}\n",
    "    chan_stds_keys = [(\"+2 std\", \"-2 std\"), (\"+1 std\", \"-1 std\")]\n",
    "    chan_stds[chan] = {\n",
    "        chan_stds_keys[0][0]: chan_mean + 2.0 * chan_std,\n",
    "        chan_stds_keys[1][0]: chan_mean + 1.0 * chan_std,\n",
    "        chan_stds_keys[1][1]: chan_mean - 1.0 * chan_std,\n",
    "        chan_stds_keys[0][1]: chan_mean - 2.0 * chan_std,\n",
    "    }\n",
    "    for upper, lower in chan_stds_keys:\n",
    "        mpl.pyplot.fill_between(\n",
    "            chan_xy_vals[0],\n",
    "            chan_stds[chan][upper],\n",
    "            chan_stds[chan][lower],\n",
    "            color=\"black\",\n",
    "            alpha=0.1,\n",
    "        )\n",
    "        mpl.pyplot.annotate(\n",
    "            upper,\n",
    "            xy=(-0.1, chan_stds[chan][upper]),\n",
    "            ha=\"center\",\n",
    "            va=\"center\",\n",
    "            color=\"dimgray\",\n",
    "        )\n",
    "        mpl.pyplot.annotate(\n",
    "            lower,\n",
    "            xy=(-0.1, chan_stds[chan][lower]),\n",
    "            ha=\"center\",\n",
    "            va=\"center\",\n",
    "            color=\"dimgray\",\n",
    "        )\n",
    "\n",
    "    # add channel mean\n",
    "    mpl.pyplot.plot(\n",
    "        [chan_xy_vals[0][0], chan_xy_vals[0][-1]],\n",
    "        [chan_mean, chan_mean],\n",
    "        \"red\",\n",
    "        label=\"_\",\n",
    "        linewidth=1,\n",
    "    )\n",
    "    mpl.pyplot.annotate(\n",
    "        \"mean\", xy=(-0.1, chan_mean), ha=\"center\", va=\"center\", color=\"red\"\n",
    "    )\n",
    "\n",
    "    # plot error bars\n",
    "    mpl.pyplot.errorbar(\n",
    "        chan_xy_vals[0],\n",
    "        chan_xy_vals[1],\n",
    "        fmt=\"o-\",\n",
    "        linewidth=1,\n",
    "        markersize=3,\n",
    "        color=\"black\",\n",
    "        label=chan,\n",
    "    )\n",
    "\n",
    "    # add legend\n",
    "    mpl.pyplot.legend()\n",
    "\n",
    "    # adjust axes\n",
    "    mpl.pyplot.minorticks_on()\n",
    "\n",
    "    # add Y-axis label\n",
    "    mpl.pyplot.ylabel(\"Raw values [a.u.]\")\n",
    "\n",
    "    # add grid\n",
    "    mpl.pyplot.grid(color=\"gray\", linewidth=0.25)\n",
    "\n",
    "    # show plot\n",
    "    mpl.pyplot.tight_layout()\n",
    "    mpl.pyplot.show()\n",
    "\n",
    "print(\"-> Completed.\")"
   ]
  },
  {
   "cell_type": "markdown",
   "id": "bb611fdd-577d-41ce-912b-48dafadab306",
   "metadata": {
    "editable": false,
    "slideshow": {
     "slide_type": ""
    },
    "tags": []
   },
   "source": [
    "### Sampling II"
   ]
  },
  {
   "cell_type": "code",
   "execution_count": null,
   "id": "26948a85-44df-441c-9f47-6eac5ac2887e",
   "metadata": {
    "editable": false,
    "jupyter": {
     "source_hidden": true
    },
    "slideshow": {
     "slide_type": ""
    },
    "tags": []
   },
   "outputs": [],
   "source": [
    "# 16) retrieve image data (group statistics)\n",
    "files_len = len(files)\n",
    "start = time.time()\n",
    "update_start = \"\"\n",
    "update_stop = \"\"\n",
    "update_max = 0\n",
    "for count, file in enumerate(files, start=1):\n",
    "    update_len = len(update_start) + len(update_stop)\n",
    "    update_max = update_len if update_len > update_max else update_max\n",
    "    update_start = f\"IMAGE: {file}\\t[{count}/{files_len}]\"\n",
    "    print(f\"\\r{update_start}{update_stop}{' ':<{update_max - update_len}}\", end=\"\")\n",
    "\n",
    "    # get group image statistics\n",
    "    tmp = laq.copy_file(file) if copy_images else file  # optional file copy\n",
    "    img = laq.get_img(tmp)\n",
    "    imgs_chans_stats[file] = laq.get_img_chans_stats(\n",
    "        img, chans_limits=channel_limits, chans_means=chans_means\n",
    "    )\n",
    "\n",
    "    # remove image objects\n",
    "    img[\"tiff\"].close()\n",
    "    if copy_images and tmp != file:\n",
    "        shutil.rmtree(os.path.dirname(tmp))\n",
    "\n",
    "    update_stop = f\" (-{laq.get_time_left(start, count, len(files))})\"\n",
    "print(f\"\\r{' ' * update_max}\\r\", end=\"\")  # clear line\n",
    "\n",
    "print(\"\\n-> Completed.\")"
   ]
  },
  {
   "cell_type": "markdown",
   "id": "9d6d66e0-0c1d-456f-babe-3c4449b83ecf",
   "metadata": {
    "editable": false,
    "slideshow": {
     "slide_type": ""
    },
    "tags": []
   },
   "source": [
    "### Summary II"
   ]
  },
  {
   "cell_type": "code",
   "execution_count": null,
   "id": "9db3157f-5bfb-4844-87de-8c2a2ee9e6e4",
   "metadata": {
    "editable": false,
    "jupyter": {
     "source_hidden": true
    },
    "slideshow": {
     "slide_type": ""
    },
    "tags": []
   },
   "outputs": [],
   "source": [
    "# 18) print image data (group statistics)\n",
    "order = [\"band_3\", \"band_2\", \"band_1\", \"band_0\"]\n",
    "stats = sorted(\n",
    "    list(\n",
    "        set(\n",
    "            stat\n",
    "            for chans_stats in imgs_chans_stats.values()\n",
    "            for stat in chans_stats.values()\n",
    "            for stat in stat.keys()\n",
    "        )\n",
    "    ),\n",
    "    key=lambda x: order.index(x),\n",
    ")\n",
    "chans_stats = {\n",
    "    chan: {\n",
    "        stat: np.array(\n",
    "            [\n",
    "                imgs_chans_stats[img][chan][stat]\n",
    "                if chan in imgs_chans_stats[img]\n",
    "                else None\n",
    "                for img in imgs_chans_stats.keys()\n",
    "            ],\n",
    "            dtype=np.float64,\n",
    "        )\n",
    "        for stat in stats\n",
    "    }\n",
    "    for chan in chans\n",
    "}\n",
    "\n",
    "# print data\n",
    "for chan in chans:\n",
    "    print(\n",
    "        f\"{chan} @ {', '.join([f'{value}{unit}' for value, unit in sorted(set(expos_found[chan]))])}\"\n",
    "    )\n",
    "    for stat in stats:\n",
    "        print(\n",
    "            f\"\\t{stat}\\t{np.nanstd(chans_stats[chan][stat]):7.1f} (mean)\\t{np.nanstd(chans_stats[chan][stat]):7.1f} (std)\"\n",
    "        )\n",
    "\n",
    "print(\"\\n-> Completed.\")"
   ]
  },
  {
   "cell_type": "markdown",
   "id": "ac9550e2-8b0c-46aa-9630-1cad5ca817c1",
   "metadata": {
    "editable": false,
    "slideshow": {
     "slide_type": ""
    },
    "tags": []
   },
   "source": [
    "### Dynamics: C-Band Charts"
   ]
  },
  {
   "cell_type": "code",
   "execution_count": null,
   "id": "d7f08343-dbf6-409e-9aa4-d124a7af6f73",
   "metadata": {
    "editable": false,
    "jupyter": {
     "source_hidden": true
    },
    "slideshow": {
     "slide_type": ""
    },
    "tags": []
   },
   "outputs": [],
   "source": [
    "# 20) plot image data (group statistics)\n",
    "bands = [stat for stat in stats if stat.startswith(\"band_\")][::-1]\n",
    "for c, chan in enumerate(chans):\n",
    "    print(f\"\\n{chan}:\")\n",
    "\n",
    "    # create new plot\n",
    "    mpl.pyplot.figure()\n",
    "\n",
    "    # prepare variables for plotting\n",
    "    chan_mean = np.nanmean(chans_means[chan][\"mean\"])\n",
    "\n",
    "    # add channel mean\n",
    "    mpl.pyplot.plot(\n",
    "        [chan_xy_vals[0][0], chan_xy_vals[0][-1]],\n",
    "        [chan_mean, chan_mean],\n",
    "        \"red\",\n",
    "        label=\"_\",\n",
    "        linewidth=1,\n",
    "    )\n",
    "    mpl.pyplot.annotate(\n",
    "        \"mean\", xy=(-0.1, chan_mean), ha=\"center\", va=\"center\", color=\"red\"\n",
    "    )\n",
    "\n",
    "    for b, band in enumerate(bands, start=1):\n",
    "        # prepare variables for plotting\n",
    "        band_xy_vals = range(len(chans_stats[chan][band])), chans_stats[chan][band]\n",
    "        band_mean = np.nanmean(chans_stats[chan][band])\n",
    "        band_std = np.nanstd(chans_stats[chan][band])\n",
    "\n",
    "        # add channel limits\n",
    "        band_stds = {}\n",
    "        band_stds_keys = [(\"+2 std\", \"-2 std\"), (\"+1 std\", \"-1 std\")]\n",
    "        band_stds[chan] = {\n",
    "            band_stds_keys[0][0]: band_mean + 2.0 * band_std,\n",
    "            band_stds_keys[1][0]: band_mean + 1.0 * band_std,\n",
    "            band_stds_keys[1][1]: band_mean - 1.0 * band_std,\n",
    "            band_stds_keys[0][1]: band_mean - 2.0 * band_std,\n",
    "        }\n",
    "        for upper, lower in band_stds_keys:\n",
    "            mpl.pyplot.fill_between(\n",
    "                band_xy_vals[0],\n",
    "                band_stds[chan][upper],\n",
    "                band_stds[chan][lower],\n",
    "                color=\"black\",\n",
    "                alpha=0.1,\n",
    "            )\n",
    "            mpl.pyplot.annotate(\n",
    "                upper,\n",
    "                xy=(-0.1, band_stds[chan][upper]),\n",
    "                ha=\"center\",\n",
    "                va=\"center\",\n",
    "                color=\"dimgray\",\n",
    "            )\n",
    "            mpl.pyplot.annotate(\n",
    "                lower,\n",
    "                xy=(-0.1, band_stds[chan][lower]),\n",
    "                ha=\"center\",\n",
    "                va=\"center\",\n",
    "                color=\"dimgray\",\n",
    "            )\n",
    "\n",
    "        # add channel mean\n",
    "        mpl.pyplot.plot(\n",
    "            [band_xy_vals[0][0], band_xy_vals[0][-1]],\n",
    "            [band_mean, band_mean],\n",
    "            \"r--\",\n",
    "            label=\"_\",\n",
    "            linewidth=1,\n",
    "        )\n",
    "        mpl.pyplot.annotate(\n",
    "            \"mean\", xy=(-0.1, band_mean), ha=\"center\", va=\"center\", color=\"red\"\n",
    "        )\n",
    "\n",
    "        # plot error bars\n",
    "        mpl.pyplot.errorbar(\n",
    "            band_xy_vals[0],\n",
    "            band_xy_vals[1],\n",
    "            fmt=\"o-\",\n",
    "            linewidth=1,\n",
    "            markersize=3,\n",
    "            color=\"black\",\n",
    "            label=chan,\n",
    "        )\n",
    "\n",
    "    # add legend\n",
    "    handles, labels = mpl.pyplot.gca().get_legend_handles_labels()\n",
    "    mpl.pyplot.legend([handles[0]], [labels[0]])\n",
    "\n",
    "    # adjust axes\n",
    "    mpl.pyplot.minorticks_on()\n",
    "\n",
    "    # add Y-axis label\n",
    "    mpl.pyplot.ylabel(\"Raw values [a.u.]\")\n",
    "\n",
    "    # add grid\n",
    "    mpl.pyplot.grid(color=\"gray\", linewidth=0.25)\n",
    "\n",
    "    # show plot\n",
    "    mpl.pyplot.tight_layout()\n",
    "    mpl.pyplot.show()\n",
    "\n",
    "print(\"-> Completed.\")"
   ]
  }
 ],
 "metadata": {
  "kernelspec": {
   "display_name": "Python 3 (ipykernel)",
   "language": "python",
   "name": "python3"
  },
  "language_info": {
   "codemirror_mode": {
    "name": "ipython",
    "version": 3
   },
   "file_extension": ".py",
   "mimetype": "text/x-python",
   "name": "python",
   "nbconvert_exporter": "python",
   "pygments_lexer": "ipython3",
   "version": "3.12.5"
  }
 },
 "nbformat": 4,
 "nbformat_minor": 5
}

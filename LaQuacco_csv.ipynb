{
 "cells": [
  {
   "cell_type": "markdown",
   "id": "67dcff70-8d02-491a-a945-53ee1ce19cb6",
   "metadata": {
    "editable": false,
    "slideshow": {
     "slide_type": ""
    },
    "tags": []
   },
   "source": [
    "# LaQuacco 🍅🍅🍅"
   ]
  },
  {
   "cell_type": "markdown",
   "id": "63c7b728-a8ea-41e4-9a10-a9ccbab594b1",
   "metadata": {
    "editable": false,
    "slideshow": {
     "slide_type": ""
    },
    "tags": []
   },
   "source": [
    "## Laboratory Quality Control v1.0 (2024-06-14)"
   ]
  },
  {
   "cell_type": "markdown",
   "id": "75c3495a-6fd7-4643-ac07-81af9958b8af",
   "metadata": {
    "editable": false,
    "slideshow": {
     "slide_type": ""
    },
    "tags": []
   },
   "source": [
    "#### https://github.com/christianrickert/LaQuacco\n"
   ]
  },
  {
   "cell_type": "markdown",
   "id": "94efd4c2-cf69-4647-b7b4-f49fc268ee8c",
   "metadata": {
    "editable": false,
    "slideshow": {
     "slide_type": ""
    },
    "tags": []
   },
   "source": [
    "### Module Imports"
   ]
  },
  {
   "cell_type": "code",
   "execution_count": null,
   "id": "59d0010f-3de0-4fd0-ae62-ae96fa0b3e8b",
   "metadata": {
    "editable": false,
    "jupyter": {
     "source_hidden": true
    },
    "slideshow": {
     "slide_type": ""
    },
    "tags": []
   },
   "outputs": [],
   "source": [
    "import os\n",
    "import shutil\n",
    "import time\n",
    "import matplotlib.pyplot as plt\n",
    "import numpy as np\n",
    "import laquacco as laq  # custom functions"
   ]
  },
  {
   "cell_type": "markdown",
   "id": "b116fe99-f03c-4105-b901-c53ec1bbeb4c",
   "metadata": {
    "editable": false,
    "slideshow": {
     "slide_type": ""
    },
    "tags": []
   },
   "source": [
    "### User Input"
   ]
  },
  {
   "cell_type": "code",
   "execution_count": null,
   "id": "f4e961dd-73e6-4d28-8b16-fc10d8b2b471",
   "metadata": {
    "editable": true,
    "slideshow": {
     "slide_type": ""
    },
    "tags": []
   },
   "outputs": [],
   "source": [
    "# define search pattern and path for positive controls:\n",
    "# statistics will be used for later quality control\n",
    "control_dir = r\"./tests/Polaris\"  # directory string\n",
    "control_ext = \"*.tif\"  # positive search pattern\n",
    "control_exc = \"\"  # negative search pattern\n",
    "control_sub = True  # recursive search\n",
    "\n",
    "# define search pattern and path for dataset samples\n",
    "# run quality control for each channel\n",
    "sample_dir = r\"./tests/Polaris\"\n",
    "sample_ext = \"*.tif\"\n",
    "sample_exc = \"\"\n",
    "sample_sub = True\n",
    "\n",
    "# copy (remote) files to local temp files\n",
    "copy_tiff = True"
   ]
  },
  {
   "cell_type": "markdown",
   "id": "8c14a1c1-5db0-4b20-aab4-ba5ac7b89dcf",
   "metadata": {
    "editable": false,
    "slideshow": {
     "slide_type": ""
    },
    "tags": []
   },
   "source": [
    "### Check Dataset"
   ]
  },
  {
   "cell_type": "code",
   "execution_count": null,
   "id": "d0cfad8c-2286-4b4d-89e1-4afc3f6c9e3e",
   "metadata": {
    "editable": false,
    "jupyter": {
     "source_hidden": true
    },
    "slideshow": {
     "slide_type": ""
    },
    "tags": []
   },
   "outputs": [],
   "source": [
    "# list positive controls\n",
    "controls = sorted(\n",
    "    laq.get_files(\n",
    "        path=control_dir,\n",
    "        pat=control_ext,\n",
    "        anti=control_exc,\n",
    "        recurse=control_sub,\n",
    "    ),\n",
    "    key=str.lower,\n",
    ")\n",
    "controls_len = len(controls)\n",
    "print(f\"Controls: {controls_len}\\n\\t{os.path.abspath(control_dir)}\")\n",
    "for control in controls:\n",
    "    print(f\"\\t {control.replace(control_dir, '.')}\")\n",
    "print()\n",
    "\n",
    "# list dataset samples\n",
    "samples = sorted(\n",
    "    laq.get_files(\n",
    "        path=sample_dir,\n",
    "        pat=sample_ext,\n",
    "        anti=sample_exc,\n",
    "        recurse=sample_sub,\n",
    "    ),\n",
    "    key=str.lower,\n",
    ")\n",
    "samples_len = len(samples)\n",
    "print(f\"Samples: {samples_len}\\n\\t{os.path.abspath(sample_dir)}\")\n",
    "for sample in samples:\n",
    "    print(f\"\\t {sample.replace(sample_dir, '.')}\")"
   ]
  },
  {
   "cell_type": "markdown",
   "id": "8eb6230e-2a76-4829-948a-cabf01f2966c",
   "metadata": {
    "editable": false,
    "slideshow": {
     "slide_type": ""
    },
    "tags": []
   },
   "source": [
    "### Sample Dataset"
   ]
  },
  {
   "cell_type": "code",
   "execution_count": null,
   "id": "f0f92a28-0ca2-4f6b-814b-b16bd83754d2",
   "metadata": {
    "editable": false,
    "slideshow": {
     "slide_type": ""
    },
    "tags": []
   },
   "outputs": [],
   "source": [
    "# get control statistics\n",
    "controls_img_data = {}\n",
    "max_controls_length = max([len(os.path.basename(control)) for control in controls])\n",
    "start = time.time()\n",
    "for count, control in enumerate(controls, start=1):\n",
    "    print(\n",
    "        f\"CONTROL: {os.path.basename(control):{max_controls_length}} [{count}/{controls_len}] \",\n",
    "        end=\"\",\n",
    "        flush=True,\n",
    "    )\n",
    "    if copy_tiff:\n",
    "        temp_control = laq.copy_file(control)\n",
    "        controls_img_data[control] = laq.stats_img_data(\n",
    "            laq.get_tiff(temp_control))  # signal above zero\n",
    "        shutil.rmtree(os.path.dirname(temp_control))\n",
    "    else:\n",
    "        controls_img_data[control] = laq.stats_img_data(\n",
    "            laq.get_tiff(control))\n",
    "    print(f\"(-{laq.get_time_left(start, count, controls_len)})\")\n",
    "print()\n",
    "\n",
    "# list control channel names (by name)\n",
    "chans = dict()\n",
    "for img_data in controls_img_data.values():\n",
    "    for chan in img_data:\n",
    "        chans[chan] = None\n",
    "chans = list(chans.keys())\n",
    "chans.remove(\"metadata\")\n",
    "chans = sorted(chans, key=str.lower)\n",
    "max_chans_length = max([len(chan) for chan in chans])\n",
    "\n",
    "# get control statistics\n",
    "control_stats = {chan: (np.nan, np.nan) for chan in chans}\n",
    "for chan in chans:\n",
    "    print(f\"{chan}:\")\n",
    "    control_mean = laq.get_chan_data(controls_img_data, chan, \"mean\")\n",
    "    control_minmax = laq.get_chan_data(controls_img_data, chan, \"minmax\", 2)\n",
    "    control_stats[chan] = (\n",
    "        np.nanmean(control_mean),\n",
    "        np.nanmean(control_minmax[:, 0]),\n",
    "        np.nanmean(control_minmax[:, 1]),\n",
    "    )\n",
    "    print(\n",
    "        f\"\\tMaximum: {control_stats[chan][2]:7.1f} (mean)\"\\\n",
    "        f\"{np.nanstd(control_minmax[:, 1]):7.1f} (std)\\n\",\n",
    "        f\"\\tMean:    {control_stats[chan][0]:7.1f} (mean)\"\\\n",
    "        f\"{np.nanstd(control_mean):7.1f} (std)\\n\",\n",
    "        f\"\\tMinimum: {control_stats[chan][1]:7.1f} (mean)\"\\\n",
    "        f\"{np.nanstd(control_minmax[:, 0]):7.1f} (std)\\n\",\n",
    "    )\n",
    "\n",
    "# get sample statistics\n",
    "samples_img_data = {}\n",
    "max_samples_length = max([len(os.path.basename(sample)) for sample in samples])\n",
    "start = time.time()\n",
    "for count, sample in enumerate(samples, start=1):\n",
    "    print(\n",
    "        f\"SAMPLE: {os.path.basename(sample):{max_samples_length}} [{count}/{samples_len}] \",\n",
    "        end=\"\",\n",
    "        flush=True,\n",
    "    )\n",
    "    if copy_tiff:\n",
    "        temp_sample = laq.copy_file(sample)\n",
    "        samples_img_data[sample] = laq.stats_img_data(\n",
    "            laq.get_tiff(temp_sample), control_stats)\n",
    "        shutil.rmtree(os.path.dirname(temp_sample))\n",
    "    else:\n",
    "        samples_img_data[sample] = laq.stats_img_data(\n",
    "            laq.get_tiff(sample), control_stats)\n",
    "    print(f\"(-{laq.get_time_left(start, count, samples_len)})\")\n",
    "print()\n",
    "\n",
    "# sort samples by time stamp\n",
    "samples_img_data = dict(\n",
    "    sorted(samples_img_data.items(), key=lambda v: v[1][\"metadata\"][\"date_time\"])\n",
    ")\n",
    "samples = [sample for sample in samples_img_data.keys()]"
   ]
  },
  {
   "cell_type": "markdown",
   "id": "1e3aa71e-a8b8-44f5-b4bf-54de55fdd99b",
   "metadata": {
    "editable": true,
    "slideshow": {
     "slide_type": ""
    },
    "tags": []
   },
   "source": [
    "### Write Dataset"
   ]
  },
  {
   "cell_type": "code",
   "execution_count": null,
   "id": "e9aa00bb-b1fc-4f96-a97d-6c585bb2f8f9",
   "metadata": {
    "editable": true,
    "slideshow": {
     "slide_type": ""
    },
    "tags": []
   },
   "outputs": [],
   "source": [
    "# get sample means\n",
    "sample_means = {}\n",
    "for c, chan in enumerate(chans):\n",
    "    sample_means[chan] = laq.get_chan_data(samples_img_data, chan, \"mean\")\n",
    "\n",
    "with open(\"channel_values.csv\", 'w', encoding='utf-8') as csv_file:\n",
    "    csv_file.write(\",\".join([\"Sample\"] + [channel for channel in sample_means.keys()]) +\"\\n\")\n",
    "    for index, sample in enumerate(samples):\n",
    "        csv_file.write(\",\".join([sample] + [str(mean[index]) for mean in sample_means.values()]) + \"\\n\")"
   ]
  }
 ],
 "metadata": {
  "kernelspec": {
   "display_name": "Python 3 (ipykernel)",
   "language": "python",
   "name": "python3"
  },
  "language_info": {
   "codemirror_mode": {
    "name": "ipython",
    "version": 3
   },
   "file_extension": ".py",
   "mimetype": "text/x-python",
   "name": "python",
   "nbconvert_exporter": "python",
   "pygments_lexer": "ipython3",
   "version": "3.12.1"
  }
 },
 "nbformat": 4,
 "nbformat_minor": 5
}

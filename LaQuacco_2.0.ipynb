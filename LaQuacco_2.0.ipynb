{
 "cells": [
  {
   "cell_type": "markdown",
   "id": "2565f104-b2a8-4c28-803f-b827cd8420e9",
   "metadata": {},
   "source": [
    "# LaQuacco 🍅🍅🍅"
   ]
  },
  {
   "cell_type": "markdown",
   "id": "acc82dc6-2df0-4dce-a121-c8e63b85ea23",
   "metadata": {},
   "source": [
    "Laboratory Quality Control v2.0 (2024-09-20)"
   ]
  },
  {
   "cell_type": "markdown",
   "id": "0373d7a4-cb60-4fe6-962b-53dcdc3b053f",
   "metadata": {},
   "source": [
    "### User Input"
   ]
  },
  {
   "cell_type": "code",
   "execution_count": null,
   "id": "1080d014-b553-467a-9847-f1a9f9160773",
   "metadata": {},
   "outputs": [],
   "source": [
    "\"\"\"\n",
    "Basic: Adjust these variable values as needed.\n",
    "\"\"\"\n",
    "images_path =\t\t\"./tests\"  # absolute or relative path\n",
    "images_included =\t\"*.ome.tiff\"  # extension must match\n",
    "images_excluded =\t\"\"  # extension must not match\n",
    "\n",
    "\"\"\"\n",
    "Check:  Running this cell lists all image files found.\n",
    "\"\"\"\n",
    "import laquacco as laq\n",
    "files = laq.get_files(path=images_path,\n",
    "                       pat=images_included,\n",
    "                       anti=images_excluded,\n",
    "                       recurse=recursive_search)\n",
    "files = [file for file in sorted(files)]\n",
    "print(f\"Images: {len(files)}\")\n",
    "print(f\"{[file.replace(images_path, '.') for file in files]}\")\n",
    "\n",
    "\"\"\"\n",
    "Advanced: Adjust these variables to customize runtime behavior.\n",
    "\"\"\"\n",
    "channel_intervals = { \n",
    "    \"Channel Name\": {\"lower\": None, \"upper\": None},\n",
    "} # define closed channel intervals with (included) endpoints\n",
    "copy_images =\t\tFalse  # increases performance for network drives\n",
    "plot_c_bands  =\t\tTrue  # uses group statistics to plot channel bands\n",
    "recursive_search =\tFalse  # search recursively for image files at path"
   ]
  },
  {
   "cell_type": "markdown",
   "id": "8fb95c45-92f9-41d5-9009-c2faf2aa82d6",
   "metadata": {},
   "source": [
    "### Sample Dataset"
   ]
  },
  {
   "cell_type": "code",
   "execution_count": null,
   "id": "454c6bf7-ce21-4709-937c-9ab491b72cdf",
   "metadata": {},
   "outputs": [],
   "source": [
    "import time\n",
    "start = time.time()\n",
    "update_start = \"\"\n",
    "update_stop = \"\"\n",
    "update_max = 0\n",
    "for count, file in enumerate(files, start=1):\n",
    "    update_len = len(update_start) + len(update_stop)\n",
    "    update_max = update_len if update_len > update_max else update_max\n",
    "    update_start  = f\"IMAGE: {file.replace(images_path, '.')}\"\n",
    "    print(f\"\\r{update_start}\", end=\"\")\n",
    "\n",
    "    # time to do something\n",
    "    time.sleep(1)\n",
    "\n",
    "    update_stop = f\" (-{laq.get_time_left(start, count, len(files))})\"\n",
    "    print(f\"\\r{update_start}{update_stop}\", end=\"\")\n",
    "print(f\"\\r{update_max * \" \"}\", end=\"\")  # clear line"
   ]
  }
 ],
 "metadata": {
  "kernelspec": {
   "display_name": "Python 3 (ipykernel)",
   "language": "python",
   "name": "python3"
  },
  "language_info": {
   "codemirror_mode": {
    "name": "ipython",
    "version": 3
   },
   "file_extension": ".py",
   "mimetype": "text/x-python",
   "name": "python",
   "nbconvert_exporter": "python",
   "pygments_lexer": "ipython3",
   "version": "3.12.6"
  }
 },
 "nbformat": 4,
 "nbformat_minor": 5
}
